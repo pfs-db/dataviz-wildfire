{
 "cells": [
  {
   "cell_type": "markdown",
   "id": "c1af1e32",
   "metadata": {},
   "source": [
    "# Basic Statistics\n",
    "We start our semester tour of diverse Python libraries with...\n",
    "\n",
    "## Numpy\n",
    "Numpy is the main library used for scientific computing in Python, focused on high-dimensional arrays and tools for them. "
   ]
  },
  {
   "cell_type": "code",
   "execution_count": 1,
   "id": "b248b313",
   "metadata": {},
   "outputs": [],
   "source": [
    "# Always first: Import the libraries that you will use\n",
    "import numpy as np"
   ]
  },
  {
   "cell_type": "code",
   "execution_count": 2,
   "id": "df201ccd",
   "metadata": {},
   "outputs": [],
   "source": [
    "# Create an array of 1 dimension\n",
    "a = np.array([1, 2, 3])\n",
    "\n",
    "# This cell will only show nothing below, only in case we explicity call for printing-like functions"
   ]
  },
  {
   "cell_type": "code",
   "execution_count": 3,
   "id": "3a475114",
   "metadata": {},
   "outputs": [
    {
     "name": "stdout",
     "output_type": "stream",
     "text": [
      "[1 2 3]\n"
     ]
    }
   ],
   "source": [
    "print(a) "
   ]
  },
  {
   "cell_type": "code",
   "execution_count": 4,
   "id": "6e6c6e38",
   "metadata": {},
   "outputs": [
    {
     "name": "stdout",
     "output_type": "stream",
     "text": [
      "<class 'numpy.ndarray'>\n"
     ]
    }
   ],
   "source": [
    "# Let's print the class\n",
    "print(type(a))            "
   ]
  },
  {
   "cell_type": "code",
   "execution_count": 5,
   "id": "077becb0",
   "metadata": {},
   "outputs": [
    {
     "name": "stdout",
     "output_type": "stream",
     "text": [
      "(3,)\n"
     ]
    }
   ],
   "source": [
    "# Print shape of the array\n",
    "print(a.shape)            "
   ]
  },
  {
   "cell_type": "code",
   "execution_count": 6,
   "id": "452db9ca",
   "metadata": {},
   "outputs": [],
   "source": [
    "# We can easily replace a value (remember Python indeces start at 0)\n",
    "a[0] = 5"
   ]
  },
  {
   "cell_type": "code",
   "execution_count": 7,
   "id": "cfffef7a",
   "metadata": {},
   "outputs": [
    {
     "name": "stdout",
     "output_type": "stream",
     "text": [
      "[5 2 3]\n"
     ]
    }
   ],
   "source": [
    "# Show the new version of the array\n",
    "print(a) "
   ]
  },
  {
   "cell_type": "code",
   "execution_count": 16,
   "id": "49de31b8",
   "metadata": {},
   "outputs": [],
   "source": [
    "# Let's create 2-dimensional arrays\n",
    "x = np.array([[1,2],[3,4]], dtype=np.float64) \n",
    "y = np.array([[5,6],[7,8]], dtype=np.float64)"
   ]
  },
  {
   "cell_type": "code",
   "execution_count": 17,
   "id": "7fc7a181",
   "metadata": {},
   "outputs": [
    {
     "name": "stdout",
     "output_type": "stream",
     "text": [
      "[[1. 2.]\n",
      " [3. 4.]]\n"
     ]
    }
   ],
   "source": [
    "print(x)"
   ]
  },
  {
   "cell_type": "code",
   "execution_count": 18,
   "id": "74eda757",
   "metadata": {},
   "outputs": [
    {
     "name": "stdout",
     "output_type": "stream",
     "text": [
      "(2, 2)\n"
     ]
    }
   ],
   "source": [
    "print(x.shape)  "
   ]
  },
  {
   "cell_type": "code",
   "execution_count": 19,
   "id": "619dd8f6",
   "metadata": {},
   "outputs": [
    {
     "name": "stdout",
     "output_type": "stream",
     "text": [
      "[[5. 6.]\n",
      " [7. 8.]]\n"
     ]
    }
   ],
   "source": [
    "print(y)"
   ]
  },
  {
   "cell_type": "code",
   "execution_count": 20,
   "id": "4f81a904",
   "metadata": {},
   "outputs": [
    {
     "name": "stdout",
     "output_type": "stream",
     "text": [
      "1.0 5.0\n"
     ]
    }
   ],
   "source": [
    "# For 2 dimensions, you need to access a value with 2 numbers\n",
    "print(x[0, 0], y[0, 0])"
   ]
  },
  {
   "cell_type": "code",
   "execution_count": 21,
   "id": "2f278f8f",
   "metadata": {},
   "outputs": [
    {
     "name": "stdout",
     "output_type": "stream",
     "text": [
      "[[0. 0.]\n",
      " [0. 0.]]\n"
     ]
    }
   ],
   "source": [
    "# There is also functions to create arrays, such as\n",
    "a = np.zeros((2,2))\n",
    "print(a)"
   ]
  },
  {
   "cell_type": "code",
   "execution_count": 22,
   "id": "d0508e3c",
   "metadata": {},
   "outputs": [
    {
     "name": "stdout",
     "output_type": "stream",
     "text": [
      "[[0.28326883 0.26087338 0.39019718]\n",
      " [0.24255563 0.38394182 0.72259725]\n",
      " [0.06914349 0.16018212 0.09140535]]\n"
     ]
    }
   ],
   "source": [
    "r = np.random.random((3, 3))  \n",
    "print(r) "
   ]
  },
  {
   "cell_type": "markdown",
   "id": "409fc168",
   "metadata": {},
   "source": [
    "## Basic Math"
   ]
  },
  {
   "cell_type": "code",
   "execution_count": 26,
   "id": "10b3bbbf",
   "metadata": {},
   "outputs": [
    {
     "name": "stdout",
     "output_type": "stream",
     "text": [
      "[[ 6.  8.]\n",
      " [10. 12.]]\n"
     ]
    }
   ],
   "source": [
    "# Addition of 2 arrays: element-wise sum\n",
    "z = x + y\n",
    "print (z)"
   ]
  },
  {
   "cell_type": "code",
   "execution_count": 24,
   "id": "e7dabd20",
   "metadata": {},
   "outputs": [
    {
     "name": "stdout",
     "output_type": "stream",
     "text": [
      "[[ 6.  8.]\n",
      " [10. 12.]]\n"
     ]
    }
   ],
   "source": [
    "print (np.add(x, y))"
   ]
  },
  {
   "cell_type": "code",
   "execution_count": 25,
   "id": "235f7a02",
   "metadata": {},
   "outputs": [
    {
     "name": "stdout",
     "output_type": "stream",
     "text": [
      "[[-4. -4.]\n",
      " [-4. -4.]]\n"
     ]
    }
   ],
   "source": [
    "# Difference\n",
    "print (np.subtract(x, y))"
   ]
  },
  {
   "cell_type": "code",
   "execution_count": 27,
   "id": "1d5665d9",
   "metadata": {},
   "outputs": [
    {
     "name": "stdout",
     "output_type": "stream",
     "text": [
      "[[ 5. 12.]\n",
      " [21. 32.]]\n"
     ]
    }
   ],
   "source": [
    "# Product\n",
    "print (np.multiply(x, y))"
   ]
  },
  {
   "cell_type": "code",
   "execution_count": 28,
   "id": "e1e8948a",
   "metadata": {},
   "outputs": [
    {
     "name": "stdout",
     "output_type": "stream",
     "text": [
      "[[0.2        0.33333333]\n",
      " [0.42857143 0.5       ]]\n"
     ]
    }
   ],
   "source": [
    "# Division\n",
    "print (np.divide(x, y))"
   ]
  },
  {
   "cell_type": "code",
   "execution_count": 29,
   "id": "4335f111",
   "metadata": {},
   "outputs": [
    {
     "name": "stdout",
     "output_type": "stream",
     "text": [
      "219\n"
     ]
    }
   ],
   "source": [
    "# Dot product of two vectors\n",
    "v = np.array([9, 10])\n",
    "w = np.array([11, 12])\n",
    "\n",
    "print(v.dot(w))"
   ]
  },
  {
   "cell_type": "code",
   "execution_count": 30,
   "id": "d150d466",
   "metadata": {},
   "outputs": [
    {
     "name": "stdout",
     "output_type": "stream",
     "text": [
      "219\n"
     ]
    }
   ],
   "source": [
    "print(np.dot(v, w))"
   ]
  },
  {
   "cell_type": "code",
   "execution_count": 31,
   "id": "f67bece0",
   "metadata": {},
   "outputs": [
    {
     "name": "stdout",
     "output_type": "stream",
     "text": [
      "[[1. 2.]\n",
      " [3. 4.]]\n"
     ]
    }
   ],
   "source": [
    "print(x)"
   ]
  },
  {
   "cell_type": "code",
   "execution_count": 32,
   "id": "75d779eb",
   "metadata": {},
   "outputs": [
    {
     "name": "stdout",
     "output_type": "stream",
     "text": [
      "10.0\n"
     ]
    }
   ],
   "source": [
    "# Sum of all elements\n",
    "print(np.sum(x))"
   ]
  },
  {
   "cell_type": "code",
   "execution_count": 33,
   "id": "e2a68c7f",
   "metadata": {},
   "outputs": [
    {
     "name": "stdout",
     "output_type": "stream",
     "text": [
      "[4. 6.]\n"
     ]
    }
   ],
   "source": [
    "# Sum each column separately\n",
    "print(np.sum(x, axis=0))"
   ]
  },
  {
   "cell_type": "code",
   "execution_count": 34,
   "id": "c0132520",
   "metadata": {},
   "outputs": [
    {
     "name": "stdout",
     "output_type": "stream",
     "text": [
      "[3. 7.]\n"
     ]
    }
   ],
   "source": [
    "# Sum each row separately\n",
    "print(np.sum(x, axis=1))"
   ]
  },
  {
   "cell_type": "markdown",
   "id": "63880246",
   "metadata": {},
   "source": [
    "## Descriptive statistics"
   ]
  },
  {
   "cell_type": "code",
   "execution_count": 35,
   "id": "b19d146f",
   "metadata": {},
   "outputs": [
    {
     "name": "stdout",
     "output_type": "stream",
     "text": [
      "[[1 2 3]\n",
      " [2 3 4]\n",
      " [4 5 6]]\n"
     ]
    }
   ],
   "source": [
    "matrix = np.array([[1, 2, 3], [2, 3, 4], [4, 5, 6]])\n",
    "print(matrix)"
   ]
  },
  {
   "cell_type": "code",
   "execution_count": 36,
   "id": "9545a0a3",
   "metadata": {},
   "outputs": [
    {
     "data": {
      "text/plain": [
       "array([2.33333333, 3.33333333, 4.33333333])"
      ]
     },
     "execution_count": 36,
     "metadata": {},
     "output_type": "execute_result"
    }
   ],
   "source": [
    "# Calculate the mean per column\n",
    "matrix.mean(axis=0)"
   ]
  },
  {
   "cell_type": "code",
   "execution_count": 37,
   "id": "0f2b57db",
   "metadata": {},
   "outputs": [
    {
     "data": {
      "text/plain": [
       "array([2., 3., 5.])"
      ]
     },
     "execution_count": 37,
     "metadata": {},
     "output_type": "execute_result"
    }
   ],
   "source": [
    "# Calculate the mean per row\n",
    "matrix.mean(axis=1)"
   ]
  },
  {
   "cell_type": "code",
   "execution_count": 38,
   "id": "4a8b5f05",
   "metadata": {},
   "outputs": [
    {
     "data": {
      "text/plain": [
       "3.0"
      ]
     },
     "execution_count": 38,
     "metadata": {},
     "output_type": "execute_result"
    }
   ],
   "source": [
    "# Median\n",
    "np.median(matrix)"
   ]
  },
  {
   "cell_type": "code",
   "execution_count": 39,
   "id": "663dbc26",
   "metadata": {},
   "outputs": [
    {
     "data": {
      "text/plain": [
       "1.4907119849998598"
      ]
     },
     "execution_count": 39,
     "metadata": {},
     "output_type": "execute_result"
    }
   ],
   "source": [
    "# Standard deviation\n",
    "np.std(matrix)"
   ]
  },
  {
   "cell_type": "markdown",
   "id": "9da1e447",
   "metadata": {},
   "source": [
    "## Histogram: Matplotlib library"
   ]
  },
  {
   "cell_type": "code",
   "execution_count": 40,
   "id": "0a17a2ca",
   "metadata": {},
   "outputs": [],
   "source": [
    "import matplotlib.pyplot as plt"
   ]
  },
  {
   "cell_type": "code",
   "execution_count": 42,
   "id": "5a7d9f64",
   "metadata": {},
   "outputs": [
    {
     "data": {
      "text/plain": [
       "array([2.27912323, 1.71493007, 1.93170015, ..., 1.88784391, 1.6927211 ,\n",
       "       1.5815929 ])"
      ]
     },
     "execution_count": 42,
     "metadata": {},
     "output_type": "execute_result"
    }
   ],
   "source": [
    "# Create a vector with 10000 values\n",
    "hvector = np.random.normal(2, 0.5, 10000)\n",
    "hvector"
   ]
  },
  {
   "cell_type": "code",
   "execution_count": 43,
   "id": "8282659d",
   "metadata": {},
   "outputs": [
    {
     "data": {
      "text/plain": [
       "(array([  1.,   0.,   0.,   1.,   0.,   1.,   4.,   3.,   8.,   7.,  15.,\n",
       "         22.,  49.,  61.,  81.,  99., 137., 184., 219., 258., 334., 402.,\n",
       "        460., 539., 598., 584., 602., 598., 600., 594., 550., 507., 456.,\n",
       "        414., 357., 294., 213., 210., 152., 114.,  84.,  76.,  39.,  25.,\n",
       "         20.,  13.,   7.,   4.,   3.,   1.]),\n",
       " array([-0.12658768, -0.04960451,  0.02737866,  0.10436183,  0.181345  ,\n",
       "         0.25832817,  0.33531134,  0.41229452,  0.48927769,  0.56626086,\n",
       "         0.64324403,  0.7202272 ,  0.79721037,  0.87419354,  0.95117672,\n",
       "         1.02815989,  1.10514306,  1.18212623,  1.2591094 ,  1.33609257,\n",
       "         1.41307574,  1.49005891,  1.56704209,  1.64402526,  1.72100843,\n",
       "         1.7979916 ,  1.87497477,  1.95195794,  2.02894111,  2.10592429,\n",
       "         2.18290746,  2.25989063,  2.3368738 ,  2.41385697,  2.49084014,\n",
       "         2.56782331,  2.64480649,  2.72178966,  2.79877283,  2.875756  ,\n",
       "         2.95273917,  3.02972234,  3.10670551,  3.18368868,  3.26067186,\n",
       "         3.33765503,  3.4146382 ,  3.49162137,  3.56860454,  3.64558771,\n",
       "         3.72257088]),\n",
       " <BarContainer object of 50 artists>)"
      ]
     },
     "execution_count": 43,
     "metadata": {},
     "output_type": "execute_result"
    },
    {
     "data": {
      "image/png": "[encoded data removed]",
      "text/plain": [
       "<Figure size 640x480 with 1 Axes>"
      ]
     },
     "metadata": {},
     "output_type": "display_data"
    }
   ],
   "source": [
    "# Plot a histogram with 50 bins\n",
    "plt.hist(hvector, bins=50)"
   ]
  },
  {
   "cell_type": "markdown",
   "id": "9b4b2cfd",
   "metadata": {},
   "source": [
    "## Indexing"
   ]
  },
  {
   "cell_type": "code",
   "execution_count": 44,
   "id": "80e701b5",
   "metadata": {},
   "outputs": [
    {
     "data": {
      "text/plain": [
       "array([1, 2, 3])"
      ]
     },
     "execution_count": 44,
     "metadata": {},
     "output_type": "execute_result"
    }
   ],
   "source": [
    "# Access the first row\n",
    "matrix[0]"
   ]
  },
  {
   "cell_type": "code",
   "execution_count": 45,
   "id": "51281bf5",
   "metadata": {},
   "outputs": [
    {
     "data": {
      "text/plain": [
       "array([1, 2, 3])"
      ]
     },
     "execution_count": 45,
     "metadata": {},
     "output_type": "execute_result"
    }
   ],
   "source": [
    "matrix[0, :]"
   ]
  },
  {
   "cell_type": "code",
   "execution_count": 46,
   "id": "58905332",
   "metadata": {},
   "outputs": [
    {
     "data": {
      "text/plain": [
       "array([1, 2, 4])"
      ]
     },
     "execution_count": 46,
     "metadata": {},
     "output_type": "execute_result"
    }
   ],
   "source": [
    "# Access the first column\n",
    "matrix[:, 0]"
   ]
  },
  {
   "cell_type": "code",
   "execution_count": 48,
   "id": "ee492761",
   "metadata": {},
   "outputs": [
    {
     "data": {
      "text/plain": [
       "array([2, 4])"
      ]
     },
     "execution_count": 48,
     "metadata": {},
     "output_type": "execute_result"
    }
   ],
   "source": [
    "# Access a specific range of the first column using the slicing operator\n",
    "matrix[1:, 0]"
   ]
  },
  {
   "cell_type": "code",
   "execution_count": 49,
   "id": "f943a1f6",
   "metadata": {},
   "outputs": [
    {
     "name": "stdout",
     "output_type": "stream",
     "text": [
      "[[0.28326883 0.26087338 0.39019718]\n",
      " [0.24255563 0.38394182 0.72259725]\n",
      " [0.06914349 0.16018212 0.09140535]]\n"
     ]
    }
   ],
   "source": [
    "print(r)"
   ]
  },
  {
   "cell_type": "code",
   "execution_count": 50,
   "id": "3457a319",
   "metadata": {},
   "outputs": [
    {
     "name": "stdout",
     "output_type": "stream",
     "text": [
      "[[0.26087338 0.39019718]\n",
      " [0.38394182 0.72259725]]\n"
     ]
    }
   ],
   "source": [
    "# Notice the index after the slicing operator is not included (in this case, there is no index 3)\n",
    "print(r[:2, 1:3])"
   ]
  },
  {
   "cell_type": "markdown",
   "id": "a34d9fb5",
   "metadata": {},
   "source": [
    "### Logic operations with indexing"
   ]
  },
  {
   "cell_type": "code",
   "execution_count": 51,
   "id": "7066de39",
   "metadata": {},
   "outputs": [],
   "source": [
    "bool_idx = (r > 0.5)"
   ]
  },
  {
   "cell_type": "code",
   "execution_count": 52,
   "id": "03454cc4",
   "metadata": {},
   "outputs": [
    {
     "name": "stdout",
     "output_type": "stream",
     "text": [
      "[[False False False]\n",
      " [False False  True]\n",
      " [False False False]]\n"
     ]
    }
   ],
   "source": [
    "print(bool_idx)"
   ]
  },
  {
   "cell_type": "markdown",
   "id": "15e18381",
   "metadata": {},
   "source": [
    "# References\n",
    "\n",
    "Numpy tutorial: https://cs231n.github.io/python-numpy-tutorial/\n",
    "\n",
    "Dot product: https://en.wikipedia.org/wiki/Dot_product"
   ]
  }
 ],
 "metadata": {
  "kernelspec": {
   "display_name": "Python 3 (ipykernel)",
   "language": "python",
   "name": "python3"
  },
  "language_info": {
   "codemirror_mode": {
    "name": "ipython",
    "version": 3
   },
   "file_extension": ".py",
   "mimetype": "text/x-python",
   "name": "python",
   "nbconvert_exporter": "python",
   "pygments_lexer": "ipython3",
   "version": "3.8.18"
  }
 },
 "nbformat": 4,
 "nbformat_minor": 5
}
