{
 "cells": [
  {
   "cell_type": "markdown",
   "id": "d8f890e4",
   "metadata": {},
   "source": [
    "# Introduction to Python"
   ]
  },
  {
   "cell_type": "markdown",
   "id": "c3efd14b",
   "metadata": {},
   "source": [
    "### Control Flow"
   ]
  },
  {
   "cell_type": "code",
   "execution_count": 5,
   "id": "67abefee",
   "metadata": {},
   "outputs": [
    {
     "name": "stdout",
     "output_type": "stream",
     "text": [
      "Good morning!\n"
     ]
    }
   ],
   "source": [
    "hour = 11\n",
    "\n",
    "if hour < 12: \n",
    "    print ('Good morning!')\n",
    "elif hour >= 12 and hour < 20: \n",
    "    print ('Good afternoon!')\n",
    "else:\n",
    "    print ('Good evening!')\n"
   ]
  },
  {
   "cell_type": "code",
   "execution_count": 6,
   "id": "7a638010",
   "metadata": {},
   "outputs": [
    {
     "name": "stdout",
     "output_type": "stream",
     "text": [
      "1 is odd\n",
      "2 is even\n",
      "3 is odd\n",
      "4 is even\n",
      "5 is odd\n",
      "6 is even\n"
     ]
    }
   ],
   "source": [
    "a = 1\n",
    "while a < 7:\n",
    "    if (a % 2 == 0):\n",
    "        print (a, \"is even\")\n",
    "    else:\n",
    "        print (a, \"is odd\")\n",
    "    a += 1"
   ]
  },
  {
   "cell_type": "markdown",
   "id": "29eab5bc",
   "metadata": {},
   "source": [
    "### More Loops"
   ]
  },
  {
   "cell_type": "code",
   "execution_count": 12,
   "id": "7165ae03",
   "metadata": {},
   "outputs": [
    {
     "name": "stdout",
     "output_type": "stream",
     "text": [
      "2\n",
      "3\n",
      "4\n",
      "5\n",
      "6\n",
      "7\n",
      "8\n",
      "9\n",
      "10\n",
      "11\n",
      "12\n",
      "13\n",
      "14\n",
      "15\n",
      "16\n",
      "17\n",
      "18\n",
      "19\n"
     ]
    }
   ],
   "source": [
    "i = 2\n",
    "while i < 20:\n",
    "    print (i)\n",
    "    i += 1"
   ]
  },
  {
   "cell_type": "code",
   "execution_count": 10,
   "id": "a81bf52a",
   "metadata": {},
   "outputs": [
    {
     "name": "stdout",
     "output_type": "stream",
     "text": [
      "2\n",
      "4\n",
      "6\n",
      "8\n"
     ]
    }
   ],
   "source": [
    "for i in range(2,10,2):\n",
    "    print (i)"
   ]
  },
  {
   "cell_type": "markdown",
   "id": "00abfed5",
   "metadata": {},
   "source": [
    "### Data Structures: Lists"
   ]
  },
  {
   "cell_type": "code",
   "execution_count": 11,
   "id": "148f8ab2",
   "metadata": {},
   "outputs": [],
   "source": [
    "numbers = [12, 37, 5, 42, 8, 3]\n",
    "even = []\n",
    "odd = []\n",
    "\n",
    "while len(numbers) > 0:\n",
    "    number = numbers.pop()\n",
    "    if (number % 2 == 0):\n",
    "        even.append(number)\n",
    "    else:\n",
    "        odd.append(number)"
   ]
  },
  {
   "cell_type": "code",
   "execution_count": 12,
   "id": "c80e0519",
   "metadata": {},
   "outputs": [
    {
     "data": {
      "text/plain": [
       "[8, 42, 12]"
      ]
     },
     "execution_count": 12,
     "metadata": {},
     "output_type": "execute_result"
    }
   ],
   "source": [
    "even"
   ]
  },
  {
   "cell_type": "code",
   "execution_count": 13,
   "id": "c98fc1dc",
   "metadata": {},
   "outputs": [
    {
     "data": {
      "text/plain": [
       "[3, 5, 37]"
      ]
     },
     "execution_count": 13,
     "metadata": {},
     "output_type": "execute_result"
    }
   ],
   "source": [
    "odd"
   ]
  },
  {
   "cell_type": "code",
   "execution_count": 14,
   "id": "bf64235d",
   "metadata": {},
   "outputs": [],
   "source": [
    "countries = ['Portugal','Spain','United Kingdom']"
   ]
  },
  {
   "cell_type": "code",
   "execution_count": 15,
   "id": "70a8ddc8",
   "metadata": {},
   "outputs": [
    {
     "data": {
      "text/plain": [
       "3"
      ]
     },
     "execution_count": 15,
     "metadata": {},
     "output_type": "execute_result"
    }
   ],
   "source": [
    "len(countries)"
   ]
  },
  {
   "cell_type": "code",
   "execution_count": 16,
   "id": "cf07b69d",
   "metadata": {},
   "outputs": [
    {
     "data": {
      "text/plain": [
       "'Portugal'"
      ]
     },
     "execution_count": 16,
     "metadata": {},
     "output_type": "execute_result"
    }
   ],
   "source": [
    "countries[0]"
   ]
  },
  {
   "cell_type": "code",
   "execution_count": 17,
   "id": "5894926f",
   "metadata": {},
   "outputs": [
    {
     "data": {
      "text/plain": [
       "'Spain'"
      ]
     },
     "execution_count": 17,
     "metadata": {},
     "output_type": "execute_result"
    }
   ],
   "source": [
    "countries[1]"
   ]
  },
  {
   "cell_type": "code",
   "execution_count": 18,
   "id": "3a0f4c53",
   "metadata": {},
   "outputs": [
    {
     "data": {
      "text/plain": [
       "'United Kingdom'"
      ]
     },
     "execution_count": 18,
     "metadata": {},
     "output_type": "execute_result"
    }
   ],
   "source": [
    "countries[2]"
   ]
  },
  {
   "cell_type": "code",
   "execution_count": 19,
   "id": "9d3c209c",
   "metadata": {},
   "outputs": [],
   "source": [
    "numbers = list(range(10))"
   ]
  },
  {
   "cell_type": "code",
   "execution_count": 23,
   "id": "5498f5de",
   "metadata": {},
   "outputs": [
    {
     "data": {
      "text/plain": [
       "[0, 1, 2, 3, 4, 5, 6, 7, 8, 9]"
      ]
     },
     "execution_count": 23,
     "metadata": {},
     "output_type": "execute_result"
    }
   ],
   "source": [
    "numbers"
   ]
  },
  {
   "cell_type": "code",
   "execution_count": 24,
   "id": "fc7f4c52",
   "metadata": {},
   "outputs": [
    {
     "data": {
      "text/plain": [
       "1"
      ]
     },
     "execution_count": 24,
     "metadata": {},
     "output_type": "execute_result"
    }
   ],
   "source": [
    "numbers[1]"
   ]
  },
  {
   "cell_type": "code",
   "execution_count": 20,
   "id": "7a321caf",
   "metadata": {},
   "outputs": [
    {
     "data": {
      "text/plain": [
       "9"
      ]
     },
     "execution_count": 20,
     "metadata": {},
     "output_type": "execute_result"
    }
   ],
   "source": [
    "numbers[-1]"
   ]
  },
  {
   "cell_type": "code",
   "execution_count": 21,
   "id": "78a18759",
   "metadata": {},
   "outputs": [
    {
     "data": {
      "text/plain": [
       "8"
      ]
     },
     "execution_count": 21,
     "metadata": {},
     "output_type": "execute_result"
    }
   ],
   "source": [
    "numbers[-2]"
   ]
  },
  {
   "cell_type": "code",
   "execution_count": 22,
   "id": "57572b9f",
   "metadata": {},
   "outputs": [
    {
     "data": {
      "text/plain": [
       "[3, 4]"
      ]
     },
     "execution_count": 22,
     "metadata": {},
     "output_type": "execute_result"
    }
   ],
   "source": [
    "numbers[3:5]"
   ]
  },
  {
   "cell_type": "code",
   "execution_count": 25,
   "id": "0d615575",
   "metadata": {},
   "outputs": [
    {
     "data": {
      "text/plain": [
       "[8, 9]"
      ]
     },
     "execution_count": 25,
     "metadata": {},
     "output_type": "execute_result"
    }
   ],
   "source": [
    "numbers[-2:]"
   ]
  },
  {
   "cell_type": "code",
   "execution_count": 26,
   "id": "6dd9dcc7",
   "metadata": {},
   "outputs": [
    {
     "data": {
      "text/plain": [
       "[0, 1, 2, 3, 4, 5, 6, 7]"
      ]
     },
     "execution_count": 26,
     "metadata": {},
     "output_type": "execute_result"
    }
   ],
   "source": [
    "numbers[:-2]"
   ]
  },
  {
   "cell_type": "markdown",
   "id": "861fe6d6",
   "metadata": {},
   "source": [
    "### Lists with Strings"
   ]
  },
  {
   "cell_type": "code",
   "execution_count": 27,
   "id": "04a7b290",
   "metadata": {},
   "outputs": [],
   "source": [
    "ten_things = \"Apples Oranges Crows Telephone Light Sugar\""
   ]
  },
  {
   "cell_type": "code",
   "execution_count": 28,
   "id": "d92a920a",
   "metadata": {},
   "outputs": [
    {
     "data": {
      "text/plain": [
       "['Apples', 'Oranges', 'Crows', 'Telephone', 'Light', 'Sugar']"
      ]
     },
     "execution_count": 28,
     "metadata": {},
     "output_type": "execute_result"
    }
   ],
   "source": [
    "stuff = ten_things.split(' ')\n",
    "stuff"
   ]
  },
  {
   "cell_type": "code",
   "execution_count": 29,
   "id": "005e58bb",
   "metadata": {},
   "outputs": [
    {
     "name": "stdout",
     "output_type": "stream",
     "text": [
      "There are 7 items now.\n",
      "There are 8 items now.\n",
      "There are 9 items now.\n",
      "There are 10 items now.\n"
     ]
    }
   ],
   "source": [
    "more_stuff = [\"Day\", \"Night\", \"Song\", \"Frisbee\", \"Corn\", \"Banana\", \"Cat\", \"Dog\"]\n",
    "\n",
    "while len(stuff) != 10:\n",
    "    next_one = more_stuff.pop()\n",
    "    stuff.append(next_one)\n",
    "\n",
    "    print (\"There are %d items now.\" % len(stuff))"
   ]
  },
  {
   "cell_type": "code",
   "execution_count": 33,
   "id": "89806d40",
   "metadata": {},
   "outputs": [
    {
     "data": {
      "text/plain": [
       "['Apples',\n",
       " 'Oranges',\n",
       " 'Crows',\n",
       " 'Telephone',\n",
       " 'Light',\n",
       " 'Sugar',\n",
       " 'Dog',\n",
       " 'Cat',\n",
       " 'Banana',\n",
       " 'Corn']"
      ]
     },
     "execution_count": 33,
     "metadata": {},
     "output_type": "execute_result"
    }
   ],
   "source": [
    "stuff"
   ]
  },
  {
   "cell_type": "code",
   "execution_count": 35,
   "id": "97e62980",
   "metadata": {},
   "outputs": [
    {
     "name": "stdout",
     "output_type": "stream",
     "text": [
      "Oranges\n"
     ]
    }
   ],
   "source": [
    "print (stuff[1])"
   ]
  },
  {
   "cell_type": "code",
   "execution_count": 37,
   "id": "d222da31",
   "metadata": {},
   "outputs": [
    {
     "name": "stdout",
     "output_type": "stream",
     "text": [
      "Corn\n"
     ]
    }
   ],
   "source": [
    "print (stuff[-1]) # whoa! fancy"
   ]
  },
  {
   "cell_type": "code",
   "execution_count": 38,
   "id": "5125a78e",
   "metadata": {},
   "outputs": [
    {
     "name": "stdout",
     "output_type": "stream",
     "text": [
      "Corn\n"
     ]
    }
   ],
   "source": [
    "print(stuff.pop())"
   ]
  },
  {
   "cell_type": "code",
   "execution_count": 39,
   "id": "65e3ab54",
   "metadata": {},
   "outputs": [
    {
     "name": "stdout",
     "output_type": "stream",
     "text": [
      "Apples Oranges Crows Telephone Light Sugar Dog Cat Banana\n"
     ]
    }
   ],
   "source": [
    "print (' '.join(stuff)) # what? cool!"
   ]
  },
  {
   "cell_type": "code",
   "execution_count": 40,
   "id": "3db27dfe",
   "metadata": {},
   "outputs": [
    {
     "name": "stdout",
     "output_type": "stream",
     "text": [
      "Telephone#Light\n"
     ]
    }
   ],
   "source": [
    "print ('#'.join(stuff[3:5])) # super stellar!"
   ]
  },
  {
   "cell_type": "code",
   "execution_count": 43,
   "id": "4080f19f",
   "metadata": {},
   "outputs": [
    {
     "data": {
      "text/plain": [
       "'Apples'"
      ]
     },
     "execution_count": 43,
     "metadata": {},
     "output_type": "execute_result"
    }
   ],
   "source": [
    "stuff[0]"
   ]
  },
  {
   "cell_type": "markdown",
   "id": "25452d66",
   "metadata": {},
   "source": [
    "### Dictionaries (Hashes)"
   ]
  },
  {
   "cell_type": "code",
   "execution_count": 45,
   "id": "3fe0ddba",
   "metadata": {},
   "outputs": [],
   "source": [
    "stuff = {'name': 'Gaby', 'age': 34}"
   ]
  },
  {
   "cell_type": "code",
   "execution_count": 46,
   "id": "bababef3",
   "metadata": {},
   "outputs": [
    {
     "data": {
      "text/plain": [
       "'Gaby'"
      ]
     },
     "execution_count": 46,
     "metadata": {},
     "output_type": "execute_result"
    }
   ],
   "source": [
    "stuff['name']"
   ]
  },
  {
   "cell_type": "code",
   "execution_count": 47,
   "id": "aec94ba6",
   "metadata": {},
   "outputs": [],
   "source": [
    "stuff['city'] = 'Bremen'"
   ]
  },
  {
   "cell_type": "code",
   "execution_count": 48,
   "id": "129ff63c",
   "metadata": {},
   "outputs": [
    {
     "data": {
      "text/plain": [
       "{'name': 'Gaby', 'age': 34, 'city': 'Bremen'}"
      ]
     },
     "execution_count": 48,
     "metadata": {},
     "output_type": "execute_result"
    }
   ],
   "source": [
    "stuff"
   ]
  },
  {
   "cell_type": "code",
   "execution_count": 49,
   "id": "8c1a2526",
   "metadata": {},
   "outputs": [
    {
     "data": {
      "text/plain": [
       "dict_items([('name', 'Gaby'), ('age', 34), ('city', 'Bremen')])"
      ]
     },
     "execution_count": 49,
     "metadata": {},
     "output_type": "execute_result"
    }
   ],
   "source": [
    "stuff.items()"
   ]
  },
  {
   "cell_type": "code",
   "execution_count": 51,
   "id": "070706bb",
   "metadata": {},
   "outputs": [
    {
     "data": {
      "text/plain": [
       "dict_keys(['name', 'age', 'city'])"
      ]
     },
     "execution_count": 51,
     "metadata": {},
     "output_type": "execute_result"
    }
   ],
   "source": [
    "stuff.keys()"
   ]
  },
  {
   "cell_type": "code",
   "execution_count": 52,
   "id": "f3ce5694",
   "metadata": {},
   "outputs": [
    {
     "data": {
      "text/plain": [
       "dict_values(['Gaby', 34, 'Bremen'])"
      ]
     },
     "execution_count": 52,
     "metadata": {},
     "output_type": "execute_result"
    }
   ],
   "source": [
    "stuff.values()"
   ]
  },
  {
   "cell_type": "code",
   "execution_count": 54,
   "id": "7fb9b18d",
   "metadata": {},
   "outputs": [
    {
     "name": "stdout",
     "output_type": "stream",
     "text": [
      "name => Gaby\n",
      "age => 34\n",
      "city => Bremen\n"
     ]
    }
   ],
   "source": [
    "for k,v in stuff.items():\n",
    "    print (k, \"=>\", v)"
   ]
  },
  {
   "cell_type": "code",
   "execution_count": 55,
   "id": "4b010c71",
   "metadata": {},
   "outputs": [
    {
     "data": {
      "text/plain": [
       "True"
      ]
     },
     "execution_count": 55,
     "metadata": {},
     "output_type": "execute_result"
    }
   ],
   "source": [
    "\"city\" in stuff # Check if it is in the hash"
   ]
  },
  {
   "cell_type": "markdown",
   "id": "202a9b65",
   "metadata": {},
   "source": [
    "### Functions"
   ]
  },
  {
   "cell_type": "code",
   "execution_count": 56,
   "id": "e8b351d9",
   "metadata": {},
   "outputs": [],
   "source": [
    "def greet( hour ):\n",
    "    if hour < 12: \n",
    "        print ('Good morning!')\n",
    "    elif hour >= 12 and hour < 20: \n",
    "        print ('Good afternoon!')\n",
    "    else:\n",
    "        print ('Good evening!') "
   ]
  },
  {
   "cell_type": "code",
   "execution_count": 57,
   "id": "d21f6d59",
   "metadata": {},
   "outputs": [
    {
     "name": "stdout",
     "output_type": "stream",
     "text": [
      "Good morning!\n"
     ]
    }
   ],
   "source": [
    "greet(11)"
   ]
  },
  {
   "cell_type": "code",
   "execution_count": 58,
   "id": "a2441bd9",
   "metadata": {},
   "outputs": [
    {
     "name": "stdout",
     "output_type": "stream",
     "text": [
      "Good evening!\n"
     ]
    }
   ],
   "source": [
    "greet(21)"
   ]
  },
  {
   "cell_type": "markdown",
   "id": "c82020d7",
   "metadata": {},
   "source": [
    "### Classes "
   ]
  },
  {
   "cell_type": "code",
   "execution_count": 60,
   "id": "91e743c8",
   "metadata": {},
   "outputs": [],
   "source": [
    "class Song(object):\n",
    "    def __init__(self, lyrics):\n",
    "        self.lyrics = lyrics\n",
    "    def sing_me_a_song(self):\n",
    "        for line in self.lyrics:\n",
    "            print (line)"
   ]
  },
  {
   "cell_type": "code",
   "execution_count": 61,
   "id": "7cf99103",
   "metadata": {},
   "outputs": [],
   "source": [
    "happy_bday = Song([\"Happy birthday to you\",\n",
    "                   \"I don't want to get sued\",\n",
    "                   \"So I'll stop right there\"])"
   ]
  },
  {
   "cell_type": "code",
   "execution_count": 62,
   "id": "6d391c55",
   "metadata": {},
   "outputs": [
    {
     "name": "stdout",
     "output_type": "stream",
     "text": [
      "Happy birthday to you\n",
      "I don't want to get sued\n",
      "So I'll stop right there\n"
     ]
    }
   ],
   "source": [
    "happy_bday.sing_me_a_song()"
   ]
  },
  {
   "cell_type": "code",
   "execution_count": 63,
   "id": "9a69b59a",
   "metadata": {},
   "outputs": [
    {
     "name": "stdout",
     "output_type": "stream",
     "text": [
      "They rally around the family\n",
      "With pockets full of shells\n"
     ]
    }
   ],
   "source": [
    "bulls_on_parade = Song([\"They rally around the family\",\n",
    "                        \"With pockets full of shells\"])\n",
    "\n",
    "bulls_on_parade.sing_me_a_song()"
   ]
  },
  {
   "cell_type": "markdown",
   "id": "ef85e735",
   "metadata": {},
   "source": [
    "### Inheritance"
   ]
  },
  {
   "cell_type": "code",
   "execution_count": 64,
   "id": "75212928",
   "metadata": {},
   "outputs": [],
   "source": [
    "class Parent(object):\n",
    "\n",
    "    def altered(self):\n",
    "        print (\"PARENT altered()\")\n",
    "\n",
    "class Child(Parent):\n",
    "\n",
    "    def altered(self):\n",
    "        print (\"CHILD, BEFORE PARENT altered()\")\n",
    "        super(Child, self).altered()\n",
    "        print (\"CHILD, AFTER PARENT altered()\")"
   ]
  },
  {
   "cell_type": "code",
   "execution_count": 65,
   "id": "75c0d335",
   "metadata": {},
   "outputs": [],
   "source": [
    "dad = Parent()\n",
    "son = Child()"
   ]
  },
  {
   "cell_type": "code",
   "execution_count": 66,
   "id": "ee75d94b",
   "metadata": {},
   "outputs": [
    {
     "data": {
      "text/plain": [
       "<__main__.Parent at 0x1c482c62e50>"
      ]
     },
     "execution_count": 66,
     "metadata": {},
     "output_type": "execute_result"
    }
   ],
   "source": [
    "dad"
   ]
  },
  {
   "cell_type": "code",
   "execution_count": 67,
   "id": "2d2503d4",
   "metadata": {},
   "outputs": [
    {
     "data": {
      "text/plain": [
       "<__main__.Child at 0x1c482c62f40>"
      ]
     },
     "execution_count": 67,
     "metadata": {},
     "output_type": "execute_result"
    }
   ],
   "source": [
    "son"
   ]
  },
  {
   "cell_type": "code",
   "execution_count": 68,
   "id": "fba8e6ba",
   "metadata": {},
   "outputs": [
    {
     "name": "stdout",
     "output_type": "stream",
     "text": [
      "PARENT altered()\n"
     ]
    }
   ],
   "source": [
    "dad.altered()"
   ]
  },
  {
   "cell_type": "code",
   "execution_count": 69,
   "id": "613b0788",
   "metadata": {},
   "outputs": [
    {
     "name": "stdout",
     "output_type": "stream",
     "text": [
      "CHILD, BEFORE PARENT altered()\n",
      "PARENT altered()\n",
      "CHILD, AFTER PARENT altered()\n"
     ]
    }
   ],
   "source": [
    "son.altered()"
   ]
  },
  {
   "cell_type": "markdown",
   "id": "6f39f15b",
   "metadata": {},
   "source": [
    "### Exceptions"
   ]
  },
  {
   "cell_type": "code",
   "execution_count": 73,
   "id": "b6922e90",
   "metadata": {},
   "outputs": [
    {
     "name": "stdout",
     "output_type": "stream",
     "text": [
      "Please enter a number: a\n",
      "Oops! That was no valid number. Try again...\n",
      "Please enter a number: e\n",
      "Oops! That was no valid number. Try again...\n",
      "Please enter a number: 4\n"
     ]
    }
   ],
   "source": [
    "while True:\n",
    "    try: \n",
    "        x = int(input(\"Please enter a number: \")) \n",
    "        break\n",
    "    except ValueError:\n",
    "        print (\"Oops! That was no valid number. Try again...\")"
   ]
  },
  {
   "cell_type": "markdown",
   "id": "25b9f088",
   "metadata": {},
   "source": [
    "### Debugging"
   ]
  },
  {
   "cell_type": "code",
   "execution_count": 74,
   "id": "eb472f4e",
   "metadata": {},
   "outputs": [
    {
     "name": "stdout",
     "output_type": "stream",
     "text": [
      "--Call--\n",
      "> \u001b[1;32mc:\\users\\gmolina\\anaconda3\\lib\\site-packages\\ipython\\core\\displayhook.py\u001b[0m(258)\u001b[0;36m__call__\u001b[1;34m()\u001b[0m\n",
      "\u001b[1;32m    256 \u001b[1;33m        \u001b[0msys\u001b[0m\u001b[1;33m.\u001b[0m\u001b[0mstdout\u001b[0m\u001b[1;33m.\u001b[0m\u001b[0mflush\u001b[0m\u001b[1;33m(\u001b[0m\u001b[1;33m)\u001b[0m\u001b[1;33m\u001b[0m\u001b[1;33m\u001b[0m\u001b[0m\n",
      "\u001b[0m\u001b[1;32m    257 \u001b[1;33m\u001b[1;33m\u001b[0m\u001b[0m\n",
      "\u001b[0m\u001b[1;32m--> 258 \u001b[1;33m    \u001b[1;32mdef\u001b[0m \u001b[0m__call__\u001b[0m\u001b[1;33m(\u001b[0m\u001b[0mself\u001b[0m\u001b[1;33m,\u001b[0m \u001b[0mresult\u001b[0m\u001b[1;33m=\u001b[0m\u001b[1;32mNone\u001b[0m\u001b[1;33m)\u001b[0m\u001b[1;33m:\u001b[0m\u001b[1;33m\u001b[0m\u001b[1;33m\u001b[0m\u001b[0m\n",
      "\u001b[0m\u001b[1;32m    259 \u001b[1;33m        \"\"\"Printing with history cache management.\n",
      "\u001b[0m\u001b[1;32m    260 \u001b[1;33m\u001b[1;33m\u001b[0m\u001b[0m\n",
      "\u001b[0m\n",
      "ipdb> h\n",
      "\n",
      "Documented commands (type help <topic>):\n",
      "========================================\n",
      "EOF    commands   enable    ll        pp       s                until \n",
      "a      condition  exit      longlist  psource  skip_hidden      up    \n",
      "alias  cont       h         n         q        skip_predicates  w     \n",
      "args   context    help      next      quit     source           whatis\n",
      "b      continue   ignore    p         r        step             where \n",
      "break  d          interact  pdef      restart  tbreak         \n",
      "bt     debug      j         pdoc      return   u              \n",
      "c      disable    jump      pfile     retval   unalias        \n",
      "cl     display    l         pinfo     run      undisplay      \n",
      "clear  down       list      pinfo2    rv       unt            \n",
      "\n",
      "Miscellaneous help topics:\n",
      "==========================\n",
      "exec  pdb\n",
      "\n",
      "ipdb> help\n",
      "\n",
      "Documented commands (type help <topic>):\n",
      "========================================\n",
      "EOF    commands   enable    ll        pp       s                until \n",
      "a      condition  exit      longlist  psource  skip_hidden      up    \n",
      "alias  cont       h         n         q        skip_predicates  w     \n",
      "args   context    help      next      quit     source           whatis\n",
      "b      continue   ignore    p         r        step             where \n",
      "break  d          interact  pdef      restart  tbreak         \n",
      "bt     debug      j         pdoc      return   u              \n",
      "c      disable    jump      pfile     retval   unalias        \n",
      "cl     display    l         pinfo     run      undisplay      \n",
      "clear  down       list      pinfo2    rv       unt            \n",
      "\n",
      "Miscellaneous help topics:\n",
      "==========================\n",
      "exec  pdb\n",
      "\n",
      "ipdb> quit\n"
     ]
    }
   ],
   "source": [
    "import pdb; pdb.set_trace()"
   ]
  },
  {
   "cell_type": "markdown",
   "id": "4f680cb9",
   "metadata": {},
   "source": [
    "### Importing code/libraries"
   ]
  },
  {
   "cell_type": "code",
   "execution_count": 76,
   "id": "4cd72398",
   "metadata": {},
   "outputs": [],
   "source": [
    "from math import sqrt, pow"
   ]
  },
  {
   "cell_type": "markdown",
   "id": "ce39cffc",
   "metadata": {},
   "source": [
    "### Tips and Tricks: Named Tuples"
   ]
  },
  {
   "cell_type": "code",
   "execution_count": 89,
   "id": "6ab44aef",
   "metadata": {},
   "outputs": [],
   "source": [
    "from collections import namedtuple\n",
    "\n",
    "Point = namedtuple('Point', ['x', 'y'])"
   ]
  },
  {
   "cell_type": "code",
   "execution_count": 91,
   "id": "1496d487",
   "metadata": {},
   "outputs": [],
   "source": [
    "p = Point(11, y=22)"
   ]
  },
  {
   "cell_type": "code",
   "execution_count": 92,
   "id": "054dcfd1",
   "metadata": {},
   "outputs": [
    {
     "data": {
      "text/plain": [
       "11"
      ]
     },
     "execution_count": 92,
     "metadata": {},
     "output_type": "execute_result"
    }
   ],
   "source": [
    "p[0]"
   ]
  },
  {
   "cell_type": "code",
   "execution_count": 94,
   "id": "633f446d",
   "metadata": {},
   "outputs": [
    {
     "data": {
      "text/plain": [
       "22"
      ]
     },
     "execution_count": 94,
     "metadata": {},
     "output_type": "execute_result"
    }
   ],
   "source": [
    "p[1]"
   ]
  },
  {
   "cell_type": "code",
   "execution_count": 96,
   "id": "cc296de5",
   "metadata": {},
   "outputs": [
    {
     "data": {
      "text/plain": [
       "33"
      ]
     },
     "execution_count": 96,
     "metadata": {},
     "output_type": "execute_result"
    }
   ],
   "source": [
    "p[0] + p[1]"
   ]
  },
  {
   "cell_type": "code",
   "execution_count": 98,
   "id": "8a23a9bd",
   "metadata": {},
   "outputs": [],
   "source": [
    "x, y = p # unpack"
   ]
  },
  {
   "cell_type": "code",
   "execution_count": 99,
   "id": "3f2d4f58",
   "metadata": {},
   "outputs": [
    {
     "data": {
      "text/plain": [
       "11"
      ]
     },
     "execution_count": 99,
     "metadata": {},
     "output_type": "execute_result"
    }
   ],
   "source": [
    "x"
   ]
  },
  {
   "cell_type": "code",
   "execution_count": 100,
   "id": "eb0f3df0",
   "metadata": {},
   "outputs": [
    {
     "data": {
      "text/plain": [
       "22"
      ]
     },
     "execution_count": 100,
     "metadata": {},
     "output_type": "execute_result"
    }
   ],
   "source": [
    "y"
   ]
  },
  {
   "cell_type": "code",
   "execution_count": 101,
   "id": "e4c79c31",
   "metadata": {},
   "outputs": [
    {
     "data": {
      "text/plain": [
       "Point(x=11, y=22)"
      ]
     },
     "execution_count": 101,
     "metadata": {},
     "output_type": "execute_result"
    }
   ],
   "source": [
    "p"
   ]
  },
  {
   "cell_type": "code",
   "execution_count": 103,
   "id": "0528d417",
   "metadata": {},
   "outputs": [
    {
     "data": {
      "text/plain": [
       "33"
      ]
     },
     "execution_count": 103,
     "metadata": {},
     "output_type": "execute_result"
    }
   ],
   "source": [
    "p.x + p.y "
   ]
  },
  {
   "cell_type": "code",
   "execution_count": 104,
   "id": "e3ecbc0c",
   "metadata": {},
   "outputs": [],
   "source": [
    "EmployeeRecord = namedtuple('EmployeeRecord', 'name, age, title, department, paygrade')"
   ]
  },
  {
   "cell_type": "code",
   "execution_count": 106,
   "id": "e321b200",
   "metadata": {},
   "outputs": [],
   "source": [
    "Employee = EmployeeRecord('Hana', 40, 'professor', 'CS', 'a lot')"
   ]
  },
  {
   "cell_type": "code",
   "execution_count": 107,
   "id": "5033d7ba",
   "metadata": {},
   "outputs": [
    {
     "data": {
      "text/plain": [
       "40"
      ]
     },
     "execution_count": 107,
     "metadata": {},
     "output_type": "execute_result"
    }
   ],
   "source": [
    "Employee.age"
   ]
  },
  {
   "cell_type": "markdown",
   "id": "7b66ff27",
   "metadata": {},
   "source": [
    "### Testing"
   ]
  },
  {
   "cell_type": "code",
   "execution_count": 6,
   "id": "1b041b4a",
   "metadata": {},
   "outputs": [],
   "source": [
    "class Room(object):\n",
    "\n",
    "    def __init__(self, name, description):\n",
    "        self.name = name\n",
    "        self.description = description\n",
    "        self.paths = {}\n",
    "\n",
    "    def go(self, direction):\n",
    "        return self.paths.get(direction, None)\n",
    "\n",
    "    def add_paths(self, paths):\n",
    "        self.paths.update(paths)"
   ]
  },
  {
   "cell_type": "code",
   "execution_count": 7,
   "id": "408b2124",
   "metadata": {},
   "outputs": [],
   "source": [
    "# import numpy and assert_equal \n",
    "import numpy as np \n",
    "import numpy.testing as npt "
   ]
  },
  {
   "cell_type": "code",
   "execution_count": 8,
   "id": "d458e8cc",
   "metadata": {},
   "outputs": [],
   "source": [
    "def test_room():\n",
    "    gold = Room(\"GoldRoom\",\n",
    "                \"\"\"This room has gold in it you can grab. There's a door to the north.\"\"\")\n",
    "    npt.assert_equal(gold.name, \"GoldRoom\")\n",
    "    npt.assert_equal(gold.paths, {})"
   ]
  },
  {
   "cell_type": "code",
   "execution_count": 9,
   "id": "774ed324",
   "metadata": {},
   "outputs": [],
   "source": [
    "test_room()"
   ]
  },
  {
   "cell_type": "code",
   "execution_count": 10,
   "id": "802402f5",
   "metadata": {},
   "outputs": [],
   "source": [
    "def test_room_paths():\n",
    "    center = Room(\"Center\", \"Test room in the center.\")\n",
    "    north = Room(\"North\", \"Test room in the north.\")\n",
    "    south = Room(\"South\", \"Test room in the south.\")\n",
    "\n",
    "    center.add_paths({'north': north, 'south': south})\n",
    "    npt.assert_equal(center.go('north'), south)\n",
    "    npt.assert_equal(center.go('south'), south)"
   ]
  },
  {
   "cell_type": "code",
   "execution_count": 11,
   "id": "354ba7d2",
   "metadata": {},
   "outputs": [
    {
     "ename": "AssertionError",
     "evalue": "\nItems are not equal:\n ACTUAL: <__main__.Room object at 0x0000010F72DE6250>\n DESIRED: <__main__.Room object at 0x0000010F72DE62B0>",
     "output_type": "error",
     "traceback": [
      "\u001b[1;31m---------------------------------------------------------------------------\u001b[0m",
      "\u001b[1;31mAssertionError\u001b[0m                            Traceback (most recent call last)",
      "Cell \u001b[1;32mIn[11], line 1\u001b[0m\n\u001b[1;32m----> 1\u001b[0m \u001b[43mtest_room_paths\u001b[49m\u001b[43m(\u001b[49m\u001b[43m)\u001b[49m\n",
      "Cell \u001b[1;32mIn[10], line 7\u001b[0m, in \u001b[0;36mtest_room_paths\u001b[1;34m()\u001b[0m\n\u001b[0;32m      4\u001b[0m south \u001b[38;5;241m=\u001b[39m Room(\u001b[38;5;124m\"\u001b[39m\u001b[38;5;124mSouth\u001b[39m\u001b[38;5;124m\"\u001b[39m, \u001b[38;5;124m\"\u001b[39m\u001b[38;5;124mTest room in the south.\u001b[39m\u001b[38;5;124m\"\u001b[39m)\n\u001b[0;32m      6\u001b[0m center\u001b[38;5;241m.\u001b[39madd_paths({\u001b[38;5;124m'\u001b[39m\u001b[38;5;124mnorth\u001b[39m\u001b[38;5;124m'\u001b[39m: north, \u001b[38;5;124m'\u001b[39m\u001b[38;5;124msouth\u001b[39m\u001b[38;5;124m'\u001b[39m: south})\n\u001b[1;32m----> 7\u001b[0m \u001b[43mnpt\u001b[49m\u001b[38;5;241;43m.\u001b[39;49m\u001b[43massert_equal\u001b[49m\u001b[43m(\u001b[49m\u001b[43mcenter\u001b[49m\u001b[38;5;241;43m.\u001b[39;49m\u001b[43mgo\u001b[49m\u001b[43m(\u001b[49m\u001b[38;5;124;43m'\u001b[39;49m\u001b[38;5;124;43mnorth\u001b[39;49m\u001b[38;5;124;43m'\u001b[39;49m\u001b[43m)\u001b[49m\u001b[43m,\u001b[49m\u001b[43m \u001b[49m\u001b[43msouth\u001b[49m\u001b[43m)\u001b[49m\n\u001b[0;32m      8\u001b[0m npt\u001b[38;5;241m.\u001b[39massert_equal(center\u001b[38;5;241m.\u001b[39mgo(\u001b[38;5;124m'\u001b[39m\u001b[38;5;124msouth\u001b[39m\u001b[38;5;124m'\u001b[39m), south)\n",
      "File \u001b[1;32m~\\anaconda3\\lib\\site-packages\\numpy\\testing\\_private\\utils.py:429\u001b[0m, in \u001b[0;36massert_equal\u001b[1;34m(actual, desired, err_msg, verbose)\u001b[0m\n\u001b[0;32m    426\u001b[0m \u001b[38;5;28;01mtry\u001b[39;00m:\n\u001b[0;32m    427\u001b[0m     \u001b[38;5;66;03m# Explicitly use __eq__ for comparison, gh-2552\u001b[39;00m\n\u001b[0;32m    428\u001b[0m     \u001b[38;5;28;01mif\u001b[39;00m \u001b[38;5;129;01mnot\u001b[39;00m (desired \u001b[38;5;241m==\u001b[39m actual):\n\u001b[1;32m--> 429\u001b[0m         \u001b[38;5;28;01mraise\u001b[39;00m \u001b[38;5;167;01mAssertionError\u001b[39;00m(msg)\n\u001b[0;32m    431\u001b[0m \u001b[38;5;28;01mexcept\u001b[39;00m (\u001b[38;5;167;01mDeprecationWarning\u001b[39;00m, \u001b[38;5;167;01mFutureWarning\u001b[39;00m) \u001b[38;5;28;01mas\u001b[39;00m e:\n\u001b[0;32m    432\u001b[0m     \u001b[38;5;66;03m# this handles the case when the two types are not even comparable\u001b[39;00m\n\u001b[0;32m    433\u001b[0m     \u001b[38;5;28;01mif\u001b[39;00m \u001b[38;5;124m'\u001b[39m\u001b[38;5;124melementwise == comparison\u001b[39m\u001b[38;5;124m'\u001b[39m \u001b[38;5;129;01min\u001b[39;00m e\u001b[38;5;241m.\u001b[39margs[\u001b[38;5;241m0\u001b[39m]:\n",
      "\u001b[1;31mAssertionError\u001b[0m: \nItems are not equal:\n ACTUAL: <__main__.Room object at 0x0000010F72DE6250>\n DESIRED: <__main__.Room object at 0x0000010F72DE62B0>"
     ]
    }
   ],
   "source": [
    "test_room_paths()"
   ]
  },
  {
   "cell_type": "code",
   "execution_count": null,
   "id": "3458e9c3",
   "metadata": {},
   "outputs": [],
   "source": []
  }
 ],
 "metadata": {
  "kernelspec": {
   "display_name": "Python 3 (ipykernel)",
   "language": "python",
   "name": "python3"
  },
  "language_info": {
   "codemirror_mode": {
    "name": "ipython",
    "version": 3
   },
   "file_extension": ".py",
   "mimetype": "text/x-python",
   "name": "python",
   "nbconvert_exporter": "python",
   "pygments_lexer": "ipython3",
   "version": "3.8.18"
  }
 },
 "nbformat": 4,
 "nbformat_minor": 5
}
