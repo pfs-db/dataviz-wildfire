{
 "cells": [
  {
   "cell_type": "code",
   "execution_count": null,
   "id": "b22a5e22",
   "metadata": {},
   "outputs": [],
   "source": [
    "from urllib.request import urlopen\n",
    "from bs4 import BeautifulSoup\n",
    "import csv"
   ]
  },
  {
   "cell_type": "code",
   "execution_count": 12,
   "id": "8f6e92ad",
   "metadata": {},
   "outputs": [],
   "source": [
    "class Crawler():\n",
    "    def __init__(self, _url):\n",
    "        self.url = _url\n",
    "        self.url_list = get_url_list()\n",
    "        self.data = get_data(url_list)\n",
    "        \n",
    "    def get_url_list():\n",
    "        url_list = []\n",
    "        \n",
    "        for x in range (1,13):\n",
    "            if x < 10:\n",
    "                url_list.append(\"https://opendata.dwd.de/climate_environment/CDC/regional_averages_DE/monthly/air_temperature_mean/regional_averages_tm_\" + \"0\" + str(x) + \".txt\")\n",
    "            else:\n",
    "                url_list.append(\"https://opendata.dwd.de/climate_environment/CDC/regional_averages_DE/monthly/air_temperature_mean/regional_averages_tm_\" + str(x) + \".txt\")\n",
    "                \n",
    "        return url_list\n",
    "    \n",
    "    def get_data(url_list):\n",
    "        Data = []\n",
    "        for url in url_list:\n",
    "            html = urlopen(url).read()\n",
    "            soup = BeautifulSoup(html, features=\"html.parser\")\n",
    "\n",
    "            # kill all script and style elements\n",
    "            for script in soup([\"script\", \"style\"]):\n",
    "                script.extract()    # rip it out\n",
    "\n",
    "            # get text\n",
    "            text = soup.get_text()\n",
    "\n",
    "            # break into lines and remove leading and trailing space on each\n",
    "            lines = (line.strip() for line in text.splitlines())\n",
    "            # break multi-headlines into a line each\n",
    "            chunks = (phrase.strip() for line in lines for phrase in line.split(\"  \"))\n",
    "            # drop blank lines\n",
    "            text = '\\n'.join(chunk for chunk in chunks if chunk)\n",
    "\n",
    "            Data.append(text)\n",
    "        return Data"
   ]
  },
  {
   "cell_type": "code",
   "execution_count": 13,
   "id": "c2d54d80",
   "metadata": {},
   "outputs": [],
   "source": [
    "def csvwriter(Data):\n",
    "\n",
    "    with open('crawler_output.csv', 'w', newline='') as csvfile:\n",
    "        articlewriter = csv.writer(csvfile, delimiter=';', quotechar='\"', quoting=csv.QUOTE_MINIMAL)\n",
    "    \n",
    "        articlewriter.writerow(Data)"
   ]
  },
  {
   "cell_type": "code",
   "execution_count": 14,
   "id": "a36117da",
   "metadata": {},
   "outputs": [],
   "source": [
    "\n",
    "        datareturn()\n",
    "parser()\n",
    "csvwriter(Data)"
   ]
  },
  {
   "cell_type": "code",
   "execution_count": null,
   "id": "c16c6e79",
   "metadata": {},
   "outputs": [],
   "source": []
  }
 ],
 "metadata": {
  "kernelspec": {
   "display_name": "Python 3 (ipykernel)",
   "language": "python",
   "name": "python3"
  },
  "language_info": {
   "codemirror_mode": {
    "name": "ipython",
    "version": 3
   },
   "file_extension": ".py",
   "mimetype": "text/x-python",
   "name": "python",
   "nbconvert_exporter": "python",
   "pygments_lexer": "ipython3",
   "version": "3.9.13"
  }
 },
 "nbformat": 4,
 "nbformat_minor": 5
}
