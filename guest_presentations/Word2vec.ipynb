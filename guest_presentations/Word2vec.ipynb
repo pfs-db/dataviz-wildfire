{
  "nbformat": 4,
  "nbformat_minor": 0,
  "metadata": {
    "colab": {
      "provenance": []
    },
    "kernelspec": {
      "name": "python3",
      "display_name": "Python 3"
    },
    "language_info": {
      "name": "python"
    }
  },
  "cells": [
    {
      "cell_type": "code",
      "execution_count": null,
      "metadata": {
        "id": "bDlRRg83U-AE"
      },
      "outputs": [],
      "source": [
        "text = \"\"\"\n",
        "Machine learning (ML) is a field of study in artificial intelligence concerned with the development and study of statistical algorithms that can learn from data and generalize to unseen data, and thus perform tasks without explicit instructions.[1] Recently, artificial neural networks have been able to surpass many previous approaches in performance.[2][3]\n",
        "ML finds application in many fields, including natural language processing, computer vision, speech recognition, email filtering, agriculture, and medicine.[4][5] When applied to business problems, it is known under the name predictive analytics. Although not all machine learning is statistically based, computational statistics is an important source of the field's methods.\n",
        "The mathematical foundations of ML are provided by mathematical optimization (mathematical programming) methods. Data mining is a related (parallel) field of study, focusing on exploratory data analysis (EDA) through unsupervised learning.[7][8]\n",
        "From a theoretical viewpoint, probably approximately correct (PAC) learning provides a framework for describing machine learning.\n",
        "\n",
        "\"\"\""
      ]
    },
    {
      "cell_type": "code",
      "source": [
        "import nltk\n",
        "nltk.download('punkt')\n",
        "import numpy as np\n",
        "np.random.seed(42)\n",
        "from nltk.tokenize import word_tokenize"
      ],
      "metadata": {
        "colab": {
          "base_uri": "https://localhost:8080/"
        },
        "id": "umFjZmReVSj-",
        "outputId": "b83d36b0-cfb5-49b2-a70f-c049691523f4"
      },
      "execution_count": null,
      "outputs": [
        {
          "output_type": "stream",
          "name": "stderr",
          "text": [
            "[nltk_data] Downloading package punkt to /root/nltk_data...\n",
            "[nltk_data]   Unzipping tokenizers/punkt.zip.\n"
          ]
        }
      ]
    },
    {
      "cell_type": "code",
      "source": [
        "tokens = word_tokenize(text)"
      ],
      "metadata": {
        "id": "hFO0JIBjWFjn"
      },
      "execution_count": null,
      "outputs": []
    },
    {
      "cell_type": "code",
      "source": [
        "# tokens"
      ],
      "metadata": {
        "id": "Rhf8x-GzWJYU"
      },
      "execution_count": null,
      "outputs": []
    },
    {
      "cell_type": "code",
      "source": [
        "def mapping(tokes):\n",
        "  word_to_id = {}\n",
        "  id_to_word = {}\n",
        "\n",
        "  for i, token in enumerate(set(tokens)):\n",
        "    word_to_id[token] = i\n",
        "    id_to_word[i] = token\n",
        "\n",
        "  return word_to_id, id_to_word"
      ],
      "metadata": {
        "id": "Ann8kBQTVpZ6"
      },
      "execution_count": null,
      "outputs": []
    },
    {
      "cell_type": "code",
      "source": [
        "word_to_id, id_to_word = mapping(tokens)"
      ],
      "metadata": {
        "id": "_WtMjn7RW1Rh"
      },
      "execution_count": null,
      "outputs": []
    },
    {
      "cell_type": "code",
      "source": [
        "# id_to_word"
      ],
      "metadata": {
        "id": "KPkxiPRWW4om"
      },
      "execution_count": null,
      "outputs": []
    },
    {
      "cell_type": "code",
      "source": [
        "len(word_to_id)"
      ],
      "metadata": {
        "colab": {
          "base_uri": "https://localhost:8080/"
        },
        "id": "KfnXZqNuW6un",
        "outputId": "d9a2de57-e2ad-47a0-be99-a614a12d4129"
      },
      "execution_count": null,
      "outputs": [
        {
          "output_type": "execute_result",
          "data": {
            "text/plain": [
              "124"
            ]
          },
          "metadata": {},
          "execution_count": 11
        }
      ]
    },
    {
      "cell_type": "code",
      "source": [
        "def one_hot_encode(id, vocab_size):\n",
        "  res = [0] * vocab_size\n",
        "  res[id] = 1\n",
        "  return res"
      ],
      "metadata": {
        "id": "YyVgUi04XEGc"
      },
      "execution_count": null,
      "outputs": []
    },
    {
      "cell_type": "code",
      "source": [
        "def generate_training_data(tokens, word_to_id, window):\n",
        "  X = []\n",
        "  Y = []\n",
        "\n",
        "  n_tokens = len(tokens)\n",
        "  for i in range(n_tokens):\n",
        "    idx = range(max(0, i - window), min(n_tokens, i+window+1))\n",
        "\n",
        "    for j in idx:\n",
        "      if i == j:\n",
        "        continue\n",
        "      X.append(one_hot_encode(word_to_id[tokens[i]], len(word_to_id)))\n",
        "      Y.append(one_hot_encode(word_to_id[tokens[j]], len(word_to_id)))\n",
        "\n",
        "  return np.asarray(X), np.asarray(Y)\n",
        "\n",
        "\n"
      ],
      "metadata": {
        "id": "MEA2idG0XcaP"
      },
      "execution_count": null,
      "outputs": []
    },
    {
      "cell_type": "code",
      "source": [
        "X, Y = generate_training_data(tokens, word_to_id, 2)"
      ],
      "metadata": {
        "id": "7vr0_69zYUp6"
      },
      "execution_count": null,
      "outputs": []
    },
    {
      "cell_type": "code",
      "source": [
        "Y[2]"
      ],
      "metadata": {
        "colab": {
          "base_uri": "https://localhost:8080/"
        },
        "id": "MSNNBODfZ3WC",
        "outputId": "d3d5b60d-7891-4cd4-992c-7c8aa07f91e2"
      },
      "execution_count": null,
      "outputs": [
        {
          "output_type": "execute_result",
          "data": {
            "text/plain": [
              "array([0, 0, 0, 0, 0, 0, 0, 0, 0, 0, 0, 0, 0, 0, 0, 0, 0, 0, 0, 0, 0, 0,\n",
              "       0, 0, 0, 0, 1, 0, 0, 0, 0, 0, 0, 0, 0, 0, 0, 0, 0, 0, 0, 0, 0, 0,\n",
              "       0, 0, 0, 0, 0, 0, 0, 0, 0, 0, 0, 0, 0, 0, 0, 0, 0, 0, 0, 0, 0, 0,\n",
              "       0, 0, 0, 0, 0, 0, 0, 0, 0, 0, 0, 0, 0, 0, 0, 0, 0, 0, 0, 0, 0, 0,\n",
              "       0, 0, 0, 0, 0, 0, 0, 0, 0, 0, 0, 0, 0, 0, 0, 0, 0, 0, 0, 0, 0, 0,\n",
              "       0, 0, 0, 0, 0, 0, 0, 0, 0, 0, 0, 0, 0, 0])"
            ]
          },
          "metadata": {},
          "execution_count": 27
        }
      ]
    },
    {
      "cell_type": "code",
      "source": [
        "def initiate_network(vocab_size, n_embeddings):\n",
        "  matrix = {\n",
        "      'w1': np.random.randn(vocab_size, n_embeddings),\n",
        "      \"w2\": np.random.randn(n_embeddings, vocab_size)\n",
        "\n",
        "  }\n",
        "  return matrix"
      ],
      "metadata": {
        "id": "Tao4atqGZ4vq"
      },
      "execution_count": null,
      "outputs": []
    },
    {
      "cell_type": "code",
      "source": [
        "matrix = initiate_network(len(word_to_id), 10)"
      ],
      "metadata": {
        "id": "aTEpGpDma0oJ"
      },
      "execution_count": null,
      "outputs": []
    },
    {
      "cell_type": "code",
      "source": [
        "def forward(model, X, return_cashe=True):\n",
        "  cashe = {}\n",
        "  cashe['a1'] = X @ model['w1']\n",
        "  cashe['a2'] = cashe['a1'] @ model['w2']\n",
        "  cashe['z'] = softmax(cashe['a2'])\n",
        "\n",
        "  if not return_cashe:\n",
        "    return cashe['z']\n",
        "  return cashe"
      ],
      "metadata": {
        "id": "gvpghz-uavF3"
      },
      "execution_count": null,
      "outputs": []
    },
    {
      "cell_type": "code",
      "source": [
        "def softmax(X):\n",
        "  result = []\n",
        "  for x in X:\n",
        "    exp = np.exp(x)\n",
        "    result.append(exp/exp.sum())\n",
        "\n",
        "  return result"
      ],
      "metadata": {
        "id": "ff6O_Z6Jbv6-"
      },
      "execution_count": null,
      "outputs": []
    },
    {
      "cell_type": "code",
      "source": [
        "def cross_entropy(z, y):\n",
        "  return -np.sum(np.log(z) * y)"
      ],
      "metadata": {
        "id": "jYrktonGcD6-"
      },
      "execution_count": null,
      "outputs": []
    },
    {
      "cell_type": "code",
      "source": [
        "def backward(model, X, y, alpha):\n",
        "  cashe = forward(model, X)\n",
        "  da2 = cashe['z'] - Y\n",
        "  dw2 = cashe['a1'].T@ da2\n",
        "  da1 = da2 @ model[\"w2\"].T\n",
        "  dw1 = X.T @ da1\n",
        "\n",
        "  model['w1'] -=alpha * dw1\n",
        "  model['w2'] -=alpha * dw2\n",
        "\n",
        "  return cross_entropy(cashe['z'], Y)"
      ],
      "metadata": {
        "id": "KPkcoKkmcWmS"
      },
      "execution_count": null,
      "outputs": []
    },
    {
      "cell_type": "code",
      "source": [
        "import matplotlib.pyplot as plt\n",
        "\n",
        "plt.style.use('seaborn')"
      ],
      "metadata": {
        "colab": {
          "base_uri": "https://localhost:8080/"
        },
        "id": "KWPJQcrKdu-c",
        "outputId": "aa8937d1-0566-4077-da98-283c518ed922"
      },
      "execution_count": null,
      "outputs": [
        {
          "output_type": "stream",
          "name": "stderr",
          "text": [
            "<ipython-input-35-974b3de0c2e2>:3: MatplotlibDeprecationWarning: The seaborn styles shipped by Matplotlib are deprecated since 3.6, as they no longer correspond to the styles shipped by seaborn. However, they will remain available as 'seaborn-v0_8-<style>'. Alternatively, directly use the seaborn API instead.\n",
            "  plt.style.use('seaborn')\n"
          ]
        }
      ]
    },
    {
      "cell_type": "code",
      "source": [
        "n_iter = 50\n",
        "learning_rate = 0.05"
      ],
      "metadata": {
        "id": "L6jPGoY5d3H8"
      },
      "execution_count": null,
      "outputs": []
    },
    {
      "cell_type": "code",
      "source": [
        "history = [backward(matrix, X, Y, learning_rate) for _ in range(n_iter)]"
      ],
      "metadata": {
        "id": "o6nVXmv2d9lN"
      },
      "execution_count": null,
      "outputs": []
    },
    {
      "cell_type": "code",
      "source": [
        "plt.plot(range(len(history)), history, color='skyblue')\n",
        "plt.show\n"
      ],
      "metadata": {
        "colab": {
          "base_uri": "https://localhost:8080/",
          "height": 674
        },
        "id": "-VP89SvheNHv",
        "outputId": "8128654b-d231-41d7-eb21-06a095f93e5d"
      },
      "execution_count": null,
      "outputs": [
        {
          "output_type": "execute_result",
          "data": {
            "text/plain": [
              "<function matplotlib.pyplot.show(close=None, block=None)>"
            ],
            "text/html": [
              "<div style=\"max-width:800px; border: 1px solid var(--colab-border-color);\"><style>\n",
              "      pre.function-repr-contents {\n",
              "        overflow-x: auto;\n",
              "        padding: 8px 12px;\n",
              "        max-height: 500px;\n",
              "      }\n",
              "\n",
              "      pre.function-repr-contents.function-repr-contents-collapsed {\n",
              "        cursor: pointer;\n",
              "        max-height: 100px;\n",
              "      }\n",
              "    </style>\n",
              "    <pre style=\"white-space: initial; background:\n",
              "         var(--colab-secondary-surface-color); padding: 8px 12px;\n",
              "         border-bottom: 1px solid var(--colab-border-color);\"><b>matplotlib.pyplot.show</b><br/>def show(*args, **kwargs)</pre><pre class=\"function-repr-contents function-repr-contents-collapsed\" style=\"\"><a class=\"filepath\" style=\"display:none\" href=\"#\">/usr/local/lib/python3.10/dist-packages/matplotlib/pyplot.py</a>Display all open figures.\n",
              "\n",
              "Parameters\n",
              "----------\n",
              "block : bool, optional\n",
              "    Whether to wait for all figures to be closed before returning.\n",
              "\n",
              "    If `True` block and run the GUI main loop until all figure windows\n",
              "    are closed.\n",
              "\n",
              "    If `False` ensure that all figure windows are displayed and return\n",
              "    immediately.  In this case, you are responsible for ensuring\n",
              "    that the event loop is running to have responsive figures.\n",
              "\n",
              "    Defaults to True in non-interactive mode and to False in interactive\n",
              "    mode (see `.pyplot.isinteractive`).\n",
              "\n",
              "See Also\n",
              "--------\n",
              "ion : Enable interactive mode, which shows / updates the figure after\n",
              "      every plotting command, so that calling ``show()`` is not necessary.\n",
              "ioff : Disable interactive mode.\n",
              "savefig : Save the figure to an image file instead of showing it on screen.\n",
              "\n",
              "Notes\n",
              "-----\n",
              "**Saving figures to file and showing a window at the same time**\n",
              "\n",
              "If you want an image file as well as a user interface window, use\n",
              "`.pyplot.savefig` before `.pyplot.show`. At the end of (a blocking)\n",
              "``show()`` the figure is closed and thus unregistered from pyplot. Calling\n",
              "`.pyplot.savefig` afterwards would save a new and thus empty figure. This\n",
              "limitation of command order does not apply if the show is non-blocking or\n",
              "if you keep a reference to the figure and use `.Figure.savefig`.\n",
              "\n",
              "**Auto-show in jupyter notebooks**\n",
              "\n",
              "The jupyter backends (activated via ``%matplotlib inline``,\n",
              "``%matplotlib notebook``, or ``%matplotlib widget``), call ``show()`` at\n",
              "the end of every cell by default. Thus, you usually don&#x27;t have to call it\n",
              "explicitly there.</pre>\n",
              "      <script>\n",
              "      if (google.colab.kernel.accessAllowed && google.colab.files && google.colab.files.view) {\n",
              "        for (const element of document.querySelectorAll('.filepath')) {\n",
              "          element.style.display = 'block'\n",
              "          element.onclick = (event) => {\n",
              "            event.preventDefault();\n",
              "            event.stopPropagation();\n",
              "            google.colab.files.view(element.textContent, 401);\n",
              "          };\n",
              "        }\n",
              "      }\n",
              "      for (const element of document.querySelectorAll('.function-repr-contents')) {\n",
              "        element.onclick = (event) => {\n",
              "          event.preventDefault();\n",
              "          event.stopPropagation();\n",
              "          element.classList.toggle('function-repr-contents-collapsed');\n",
              "        };\n",
              "      }\n",
              "      </script>\n",
              "      </div>"
            ]
          },
          "metadata": {},
          "execution_count": 38
        },
        {
          "output_type": "display_data",
          "data": {
            "text/plain": [
              "<Figure size 800x550 with 1 Axes>"
            ],
            "image/png": "[encoded data removed]"
          },
          "metadata": {}
        }
      ]
    },
    {
      "cell_type": "code",
      "source": [
        "learning = one_hot_encode(word_to_id['learning'], len(word_to_id))"
      ],
      "metadata": {
        "id": "lNw8ZLGeefoM"
      },
      "execution_count": null,
      "outputs": []
    },
    {
      "cell_type": "code",
      "source": [
        "result = forward(matrix, [learning], return_cashe = False)[0]"
      ],
      "metadata": {
        "id": "Qd1yu4BcfEqH"
      },
      "execution_count": null,
      "outputs": []
    },
    {
      "cell_type": "code",
      "source": [
        "for word in (id_to_word[id] for id in np.argsort(result)[::-1]):\n",
        "  print(word)"
      ],
      "metadata": {
        "colab": {
          "base_uri": "https://localhost:8080/"
        },
        "id": "cB3Q0VLjfrPt",
        "outputId": "3332c212-7df2-4cc7-f8ca-2acf6d7532bd"
      },
      "execution_count": null,
      "outputs": [
        {
          "output_type": "stream",
          "name": "stdout",
          "text": [
            "is\n",
            "describing\n",
            "all\n",
            "a\n",
            "learning\n",
            "machine\n",
            "provides\n",
            "statistically\n",
            "unsupervised\n",
            "PAC\n",
            "ML\n",
            "Machine\n",
            ")\n",
            "through\n",
            "for\n",
            "(\n",
            "[\n",
            ".\n",
            "not\n",
            "Data\n",
            "methods\n",
            "mining\n",
            "parallel\n",
            "computational\n",
            "EDA\n",
            "correct\n",
            "programming\n",
            "probably\n",
            "able\n",
            "mathematical\n",
            "framework\n",
            "]\n",
            "networks\n",
            "business\n",
            "application\n",
            "it\n",
            "previous\n",
            "8\n",
            "approximately\n",
            "7\n",
            "2\n",
            "based\n",
            "4\n",
            "foundations\n",
            "computer\n",
            "3\n",
            "From\n",
            "When\n",
            "finds\n",
            "an\n",
            "5\n",
            "have\n",
            "instructions\n",
            "The\n",
            "natural\n",
            "fields\n",
            "provided\n",
            "statistics\n",
            "are\n",
            "to\n",
            "many\n",
            "applied\n",
            "neural\n",
            "related\n",
            "performance\n",
            "optimization\n",
            "1\n",
            "medicine\n",
            "theoretical\n",
            "language\n",
            "by\n",
            "speech\n",
            "been\n",
            "explicit\n",
            "approaches\n",
            "processing\n",
            "Recently\n",
            "including\n",
            "viewpoint\n",
            "Although\n",
            "surpass\n",
            "algorithms\n",
            "vision\n",
            "field\n",
            "under\n",
            "analytics\n",
            "agriculture\n",
            "without\n",
            "study\n",
            "learn\n",
            "of\n",
            "'s\n",
            "email\n",
            "tasks\n",
            "from\n",
            "that\n",
            "important\n",
            "recognition\n",
            "problems\n",
            "known\n",
            "source\n",
            "name\n",
            "on\n",
            "unseen\n",
            "thus\n",
            "filtering\n",
            "exploratory\n",
            "analysis\n",
            "can\n",
            "perform\n",
            ",\n",
            "generalize\n",
            "predictive\n",
            "in\n",
            "statistical\n",
            "intelligence\n",
            "data\n",
            "artificial\n",
            "the\n",
            "focusing\n",
            "concerned\n",
            "development\n",
            "and\n",
            "with\n"
          ]
        }
      ]
    }
  ]
}