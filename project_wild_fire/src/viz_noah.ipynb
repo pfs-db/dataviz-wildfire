{
 "cells": [
  {
   "cell_type": "markdown",
   "metadata": {},
   "source": [
    "### Skript to Visualize \n",
    "package mathplotlip "
   ]
  },
  {
   "cell_type": "code",
   "execution_count": 6,
   "metadata": {},
   "outputs": [],
   "source": [
    "import matplotlib as plt\n",
    "import common_paths\n",
    "import pandas as pd\n",
    "import numpy as np"
   ]
  },
  {
   "cell_type": "code",
   "execution_count": 9,
   "metadata": {},
   "outputs": [],
   "source": [
    "#area.to_csv(common_paths.DATA.joinpath(\"dwd/area_Brandenburg.csv\"))\n",
    "df_number = pd.read_csv(common_paths.DATA.joinpath(\"dwd/nr_Brandenburg.csv\"))\n",
    "df_area   = pd.read_csv(common_paths.DATA.joinpath(\"dwd/area_Brandenburg.csv\"))"
   ]
  },
  {
   "cell_type": "code",
   "execution_count": 10,
   "metadata": {},
   "outputs": [
    {
     "name": "stdout",
     "output_type": "stream",
     "text": [
      "<class 'pandas.core.frame.DataFrame'>\n",
      "RangeIndex: 8381 entries, 0 to 8380\n",
      "Data columns (total 8 columns):\n",
      " #   Column                                   Non-Null Count  Dtype  \n",
      "---  ------                                   --------------  -----  \n",
      " 0   Unnamed: 0                               8381 non-null   int64  \n",
      " 1   Year                                     8381 non-null   int64  \n",
      " 2   Month                                    8381 non-null   int64  \n",
      " 3   station_id                               8381 non-null   int64  \n",
      " 4   CLIMATE_SUMMARY.PRECIPITATION_HEIGHT     7905 non-null   float64\n",
      " 5   CLIMATE_SUMMARY.WIND_FORCE_BEAUFORT      6989 non-null   float64\n",
      " 6   CLIMATE_SUMMARY.TEMPERATURE_AIR_MAX_200  7997 non-null   float64\n",
      " 7   nFires                                   8381 non-null   float64\n",
      "dtypes: float64(4), int64(4)\n",
      "memory usage: 523.9 KB\n"
     ]
    }
   ],
   "source": [
    "\n",
    "#uniqu = np.unique(df_number['nFires'].values)\n",
    "df_number.info()\n",
    "#drop \n",
    "# TODO Dataset bearbeiten nur noch wenn ich auf die features hinauswill "
   ]
  },
  {
   "cell_type": "code",
   "execution_count": null,
   "metadata": {},
   "outputs": [],
   "source": [
    "#Ideen Viz für predictions \n",
    "# Eine Map für ein Monat \n"
   ]
  }
 ],
 "metadata": {
  "kernelspec": {
   "display_name": ".venv",
   "language": "python",
   "name": "python3"
  },
  "language_info": {
   "codemirror_mode": {
    "name": "ipython",
    "version": 3
   },
   "file_extension": ".py",
   "mimetype": "text/x-python",
   "name": "python",
   "nbconvert_exporter": "python",
   "pygments_lexer": "ipython3",
   "version": "3.12.3"
  }
 },
 "nbformat": 4,
 "nbformat_minor": 2
}
