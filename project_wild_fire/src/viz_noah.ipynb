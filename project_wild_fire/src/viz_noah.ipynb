{
 "cells": [
  {
   "cell_type": "markdown",
   "metadata": {},
   "source": [
    "### Skript to Visualize \n",
    "package mathplotlip "
   ]
  },
  {
   "cell_type": "code",
   "execution_count": null,
   "metadata": {},
   "outputs": [],
   "source": [
    "import matplotlib.pyplot as plt\n",
    "import common_paths\n",
    "import pandas as pd\n",
    "import numpy as np"
   ]
  },
  {
   "cell_type": "code",
   "execution_count": null,
   "metadata": {},
   "outputs": [],
   "source": []
  },
  {
   "cell_type": "code",
   "execution_count": 33,
   "metadata": {},
   "outputs": [],
   "source": [
    "#area.to_csv(common_paths.DATA.joinpath(\"dwd/area_Brandenburg.csv\"))\n",
    "df_number = pd.read_csv(common_paths.DATA.joinpath(\"dwd/nr_Brandenburg.csv\"))\n",
    "df_area   = pd.read_csv(common_paths.DATA.joinpath(\"dwd/area_Brandenburg.csv\"))\n",
    "df_predict_numbers = pd.read_csv(common_paths.DATA.joinpath(\"dwd/final_predictions.csv\"))"
   ]
  },
  {
   "cell_type": "code",
   "execution_count": 34,
   "metadata": {},
   "outputs": [
    {
     "data": {
      "text/html": [
       "<div>\n",
       "<style scoped>\n",
       "    .dataframe tbody tr th:only-of-type {\n",
       "        vertical-align: middle;\n",
       "    }\n",
       "\n",
       "    .dataframe tbody tr th {\n",
       "        vertical-align: top;\n",
       "    }\n",
       "\n",
       "    .dataframe thead th {\n",
       "        text-align: right;\n",
       "    }\n",
       "</style>\n",
       "<table border=\"1\" class=\"dataframe\">\n",
       "  <thead>\n",
       "    <tr style=\"text-align: right;\">\n",
       "      <th></th>\n",
       "      <th>Unnamed: 0</th>\n",
       "      <th>sfcWind</th>\n",
       "      <th>pr</th>\n",
       "      <th>tasmax</th>\n",
       "      <th>prediction</th>\n",
       "    </tr>\n",
       "  </thead>\n",
       "  <tbody>\n",
       "    <tr>\n",
       "      <th>0</th>\n",
       "      <td>0</td>\n",
       "      <td>4.900000</td>\n",
       "      <td>51.580644</td>\n",
       "      <td>278.43063</td>\n",
       "      <td>0.010328</td>\n",
       "    </tr>\n",
       "    <tr>\n",
       "      <th>1</th>\n",
       "      <td>1</td>\n",
       "      <td>4.761291</td>\n",
       "      <td>54.774196</td>\n",
       "      <td>278.38547</td>\n",
       "      <td>0.010014</td>\n",
       "    </tr>\n",
       "    <tr>\n",
       "      <th>2</th>\n",
       "      <td>2</td>\n",
       "      <td>4.422581</td>\n",
       "      <td>63.967742</td>\n",
       "      <td>278.19840</td>\n",
       "      <td>0.010014</td>\n",
       "    </tr>\n",
       "    <tr>\n",
       "      <th>3</th>\n",
       "      <td>3</td>\n",
       "      <td>4.416129</td>\n",
       "      <td>47.709679</td>\n",
       "      <td>278.55966</td>\n",
       "      <td>0.010328</td>\n",
       "    </tr>\n",
       "    <tr>\n",
       "      <th>4</th>\n",
       "      <td>4</td>\n",
       "      <td>4.367742</td>\n",
       "      <td>47.709679</td>\n",
       "      <td>278.54030</td>\n",
       "      <td>0.010328</td>\n",
       "    </tr>\n",
       "    <tr>\n",
       "      <th>...</th>\n",
       "      <td>...</td>\n",
       "      <td>...</td>\n",
       "      <td>...</td>\n",
       "      <td>...</td>\n",
       "      <td>...</td>\n",
       "    </tr>\n",
       "    <tr>\n",
       "      <th>70390</th>\n",
       "      <td>70390</td>\n",
       "      <td>4.516129</td>\n",
       "      <td>41.612901</td>\n",
       "      <td>274.10160</td>\n",
       "      <td>0.021878</td>\n",
       "    </tr>\n",
       "    <tr>\n",
       "      <th>70391</th>\n",
       "      <td>70391</td>\n",
       "      <td>5.196774</td>\n",
       "      <td>51.967742</td>\n",
       "      <td>273.57257</td>\n",
       "      <td>0.025452</td>\n",
       "    </tr>\n",
       "    <tr>\n",
       "      <th>70392</th>\n",
       "      <td>70392</td>\n",
       "      <td>5.316129</td>\n",
       "      <td>51.967742</td>\n",
       "      <td>273.62740</td>\n",
       "      <td>0.025452</td>\n",
       "    </tr>\n",
       "    <tr>\n",
       "      <th>70393</th>\n",
       "      <td>70393</td>\n",
       "      <td>5.216129</td>\n",
       "      <td>45.483872</td>\n",
       "      <td>273.60483</td>\n",
       "      <td>0.025452</td>\n",
       "    </tr>\n",
       "    <tr>\n",
       "      <th>70394</th>\n",
       "      <td>70394</td>\n",
       "      <td>5.241936</td>\n",
       "      <td>47.419354</td>\n",
       "      <td>273.66290</td>\n",
       "      <td>0.025452</td>\n",
       "    </tr>\n",
       "  </tbody>\n",
       "</table>\n",
       "<p>70395 rows × 5 columns</p>\n",
       "</div>"
      ],
      "text/plain": [
       "       Unnamed: 0   sfcWind         pr     tasmax  prediction\n",
       "0               0  4.900000  51.580644  278.43063    0.010328\n",
       "1               1  4.761291  54.774196  278.38547    0.010014\n",
       "2               2  4.422581  63.967742  278.19840    0.010014\n",
       "3               3  4.416129  47.709679  278.55966    0.010328\n",
       "4               4  4.367742  47.709679  278.54030    0.010328\n",
       "...           ...       ...        ...        ...         ...\n",
       "70390       70390  4.516129  41.612901  274.10160    0.021878\n",
       "70391       70391  5.196774  51.967742  273.57257    0.025452\n",
       "70392       70392  5.316129  51.967742  273.62740    0.025452\n",
       "70393       70393  5.216129  45.483872  273.60483    0.025452\n",
       "70394       70394  5.241936  47.419354  273.66290    0.025452\n",
       "\n",
       "[70395 rows x 5 columns]"
      ]
     },
     "execution_count": 34,
     "metadata": {},
     "output_type": "execute_result"
    }
   ],
   "source": [
    "df_predict_numbers\n",
    "\n",
    "# Was braucht Monat Jahr Bundesland Prediction Value "
   ]
  },
  {
   "cell_type": "code",
   "execution_count": 35,
   "metadata": {},
   "outputs": [
    {
     "name": "stdout",
     "output_type": "stream",
     "text": [
      "<class 'pandas.core.frame.DataFrame'>\n",
      "RangeIndex: 8381 entries, 0 to 8380\n",
      "Data columns (total 8 columns):\n",
      " #   Column                                   Non-Null Count  Dtype  \n",
      "---  ------                                   --------------  -----  \n",
      " 0   Unnamed: 0                               8381 non-null   int64  \n",
      " 1   Year                                     8381 non-null   int64  \n",
      " 2   Month                                    8381 non-null   int64  \n",
      " 3   station_id                               8381 non-null   int64  \n",
      " 4   CLIMATE_SUMMARY.PRECIPITATION_HEIGHT     7905 non-null   float64\n",
      " 5   CLIMATE_SUMMARY.WIND_FORCE_BEAUFORT      6989 non-null   float64\n",
      " 6   CLIMATE_SUMMARY.TEMPERATURE_AIR_MAX_200  7997 non-null   float64\n",
      " 7   nFires                                   8381 non-null   float64\n",
      "dtypes: float64(4), int64(4)\n",
      "memory usage: 523.9 KB\n",
      "<class 'pandas.core.frame.DataFrame'>\n",
      "RangeIndex: 8381 entries, 0 to 8380\n",
      "Data columns (total 8 columns):\n",
      " #   Column                                   Non-Null Count  Dtype  \n",
      "---  ------                                   --------------  -----  \n",
      " 0   Unnamed: 0                               8381 non-null   int64  \n",
      " 1   Year                                     8381 non-null   int64  \n",
      " 2   Month                                    8381 non-null   int64  \n",
      " 3   station_id                               8381 non-null   int64  \n",
      " 4   CLIMATE_SUMMARY.PRECIPITATION_HEIGHT     7905 non-null   float64\n",
      " 5   CLIMATE_SUMMARY.WIND_FORCE_BEAUFORT      6989 non-null   float64\n",
      " 6   CLIMATE_SUMMARY.TEMPERATURE_AIR_MAX_200  7997 non-null   float64\n",
      " 7   area                                     8122 non-null   float64\n",
      "dtypes: float64(4), int64(4)\n",
      "memory usage: 523.9 KB\n"
     ]
    }
   ],
   "source": [
    "\n",
    "#uniqu = np.unique(df_number['nFires'].values)\n",
    "df_number.info()\n",
    "df_area.info()\n",
    "#drop \n",
    "# TODO Dataset bearbeiten nur noch wenn ich auf die features hinauswill "
   ]
  },
  {
   "cell_type": "code",
   "execution_count": null,
   "metadata": {},
   "outputs": [],
   "source": [
    "#Ideen Viz für predictions \n",
    "# Eine Map für ein Monat \n",
    "#Plot und Scatter unterschiede "
   ]
  },
  {
   "cell_type": "code",
   "execution_count": null,
   "metadata": {},
   "outputs": [],
   "source": [
    "fig, ax = plt.subplots()             # Create a figure containing a single Axes.\n",
    "ax.plot([1, 2, 3, 4], [1, 4, 2, 3])  # Plot some data on the Axes.\n",
    "plt.show()                           # Show the figure."
   ]
  },
  {
   "cell_type": "code",
   "execution_count": null,
   "metadata": {},
   "outputs": [],
   "source": [
    "fig = plt.figure()             # an empty figure with no Axes\n",
    "fig, ax = plt.subplots()       # a figure with a single Axes\n",
    "fig, axs = plt.subplots(2, 2)  # a figure with a 2x2 grid of Axes\n",
    "# a figure with one Axes on the left, and two on the right:\n",
    "fig, axs = plt.subplot_mosaic([['left', 'right_top'],\n",
    "                               ['left', 'right_bottom']])"
   ]
  },
  {
   "cell_type": "code",
   "execution_count": null,
   "metadata": {},
   "outputs": [],
   "source": [
    "\n",
    "data = {'time': df_area['month'],\n",
    "        'nFires': df_predict_numbers['nFires'],\n",
    "        'area': df_area['area']}\n",
    "\n",
    "\n",
    "data['b'] = data['a'] + 10 * np.random.randn(50)\n",
    "data['d'] = np.abs(data['d']) * 100\n",
    "\n",
    "data['Year']\n",
    "data['nFires']\n",
    "\n",
    "fig, ax = plt.subplots(figsize=(5, 2.7), layout='constrained')\n",
    "ax.scatter('a', 'b', c='area', s='d', data=data)\n",
    "ax.set_title('forest fire predictions')\n",
    "ax.set_xlabel('time')\n",
    "ax.set_ylabel('number of fires')"
   ]
  }
 ],
 "metadata": {
  "kernelspec": {
   "display_name": ".venv",
   "language": "python",
   "name": "python3"
  },
  "language_info": {
   "codemirror_mode": {
    "name": "ipython",
    "version": 3
   },
   "file_extension": ".py",
   "mimetype": "text/x-python",
   "name": "python",
   "nbconvert_exporter": "python",
   "pygments_lexer": "ipython3",
   "version": "3.12.3"
  }
 },
 "nbformat": 4,
 "nbformat_minor": 2
}
