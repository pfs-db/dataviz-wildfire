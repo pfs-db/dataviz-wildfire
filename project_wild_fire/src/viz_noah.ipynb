{
 "cells": [
  {
   "cell_type": "markdown",
   "metadata": {},
   "source": [
    "### Skript to Visualize \n",
    "package mathplotlip "
   ]
  },
  {
   "cell_type": "code",
   "execution_count": null,
   "metadata": {},
   "outputs": [],
   "source": [
    "import matplotlib.pyplot as plt\n",
    "import common_paths\n",
    "import pandas as pd\n",
    "import numpy as np"
   ]
  },
  {
   "cell_type": "code",
   "execution_count": null,
   "metadata": {},
   "outputs": [],
   "source": []
  },
  {
   "cell_type": "code",
   "execution_count": null,
   "metadata": {},
   "outputs": [],
   "source": [
    "#area.to_csv(common_paths.DATA.joinpath(\"dwd/area_Brandenburg.csv\"))\n",
    "df_number = pd.read_csv(common_paths.DATA.joinpath(\"dwd/nr_Brandenburg.csv\"))\n",
    "df_area   = pd.read_csv(common_paths.DATA.joinpath(\"dwd/area_Brandenburg.csv\"))\n",
    "df_predict_numbers = pd.read_csv(common_paths.DATA.joinpath(\"dwd/final_predictions.csv\"))"
   ]
  },
  {
   "cell_type": "code",
   "execution_count": 10,
   "metadata": {},
   "outputs": [
    {
     "data": {
      "text/html": [
       "<div>\n",
       "<style scoped>\n",
       "    .dataframe tbody tr th:only-of-type {\n",
       "        vertical-align: middle;\n",
       "    }\n",
       "\n",
       "    .dataframe tbody tr th {\n",
       "        vertical-align: top;\n",
       "    }\n",
       "\n",
       "    .dataframe thead th {\n",
       "        text-align: right;\n",
       "    }\n",
       "</style>\n",
       "<table border=\"1\" class=\"dataframe\">\n",
       "  <thead>\n",
       "    <tr style=\"text-align: right;\">\n",
       "      <th></th>\n",
       "      <th>Unnamed: 0</th>\n",
       "      <th>Year</th>\n",
       "      <th>Month</th>\n",
       "      <th>tasmax</th>\n",
       "      <th>sfcWind</th>\n",
       "      <th>pr</th>\n",
       "      <th>nr_predictions</th>\n",
       "    </tr>\n",
       "  </thead>\n",
       "  <tbody>\n",
       "    <tr>\n",
       "      <th>0</th>\n",
       "      <td>0</td>\n",
       "      <td>2024</td>\n",
       "      <td>1</td>\n",
       "      <td>277.818281</td>\n",
       "      <td>4.376295</td>\n",
       "      <td>51.553847</td>\n",
       "      <td>0.164291</td>\n",
       "    </tr>\n",
       "    <tr>\n",
       "      <th>1</th>\n",
       "      <td>1</td>\n",
       "      <td>2024</td>\n",
       "      <td>2</td>\n",
       "      <td>275.542922</td>\n",
       "      <td>3.763572</td>\n",
       "      <td>13.482759</td>\n",
       "      <td>2.459327</td>\n",
       "    </tr>\n",
       "    <tr>\n",
       "      <th>2</th>\n",
       "      <td>2</td>\n",
       "      <td>2024</td>\n",
       "      <td>3</td>\n",
       "      <td>282.054063</td>\n",
       "      <td>4.178627</td>\n",
       "      <td>21.255087</td>\n",
       "      <td>0.651208</td>\n",
       "    </tr>\n",
       "    <tr>\n",
       "      <th>3</th>\n",
       "      <td>3</td>\n",
       "      <td>2024</td>\n",
       "      <td>4</td>\n",
       "      <td>290.934900</td>\n",
       "      <td>3.595162</td>\n",
       "      <td>20.208205</td>\n",
       "      <td>24.029319</td>\n",
       "    </tr>\n",
       "    <tr>\n",
       "      <th>4</th>\n",
       "      <td>4</td>\n",
       "      <td>2024</td>\n",
       "      <td>5</td>\n",
       "      <td>294.976148</td>\n",
       "      <td>2.951547</td>\n",
       "      <td>47.807941</td>\n",
       "      <td>7.718772</td>\n",
       "    </tr>\n",
       "    <tr>\n",
       "      <th>...</th>\n",
       "      <td>...</td>\n",
       "      <td>...</td>\n",
       "      <td>...</td>\n",
       "      <td>...</td>\n",
       "      <td>...</td>\n",
       "      <td>...</td>\n",
       "      <td>...</td>\n",
       "    </tr>\n",
       "    <tr>\n",
       "      <th>356</th>\n",
       "      <td>356</td>\n",
       "      <td>2053</td>\n",
       "      <td>9</td>\n",
       "      <td>295.810764</td>\n",
       "      <td>2.768496</td>\n",
       "      <td>16.893846</td>\n",
       "      <td>62.192160</td>\n",
       "    </tr>\n",
       "    <tr>\n",
       "      <th>357</th>\n",
       "      <td>357</td>\n",
       "      <td>2053</td>\n",
       "      <td>10</td>\n",
       "      <td>285.987099</td>\n",
       "      <td>3.775451</td>\n",
       "      <td>48.880397</td>\n",
       "      <td>0.903613</td>\n",
       "    </tr>\n",
       "    <tr>\n",
       "      <th>358</th>\n",
       "      <td>358</td>\n",
       "      <td>2053</td>\n",
       "      <td>11</td>\n",
       "      <td>278.810097</td>\n",
       "      <td>3.910427</td>\n",
       "      <td>76.919488</td>\n",
       "      <td>0.123145</td>\n",
       "    </tr>\n",
       "    <tr>\n",
       "      <th>359</th>\n",
       "      <td>359</td>\n",
       "      <td>2053</td>\n",
       "      <td>12</td>\n",
       "      <td>272.485429</td>\n",
       "      <td>3.304169</td>\n",
       "      <td>27.871464</td>\n",
       "      <td>0.085704</td>\n",
       "    </tr>\n",
       "    <tr>\n",
       "      <th>360</th>\n",
       "      <td>360</td>\n",
       "      <td>2054</td>\n",
       "      <td>1</td>\n",
       "      <td>274.436014</td>\n",
       "      <td>4.323838</td>\n",
       "      <td>51.345410</td>\n",
       "      <td>0.218736</td>\n",
       "    </tr>\n",
       "  </tbody>\n",
       "</table>\n",
       "<p>361 rows × 7 columns</p>\n",
       "</div>"
      ],
      "text/plain": [
       "     Unnamed: 0  Year  Month      tasmax   sfcWind         pr  nr_predictions\n",
       "0             0  2024      1  277.818281  4.376295  51.553847        0.164291\n",
       "1             1  2024      2  275.542922  3.763572  13.482759        2.459327\n",
       "2             2  2024      3  282.054063  4.178627  21.255087        0.651208\n",
       "3             3  2024      4  290.934900  3.595162  20.208205       24.029319\n",
       "4             4  2024      5  294.976148  2.951547  47.807941        7.718772\n",
       "..          ...   ...    ...         ...       ...        ...             ...\n",
       "356         356  2053      9  295.810764  2.768496  16.893846       62.192160\n",
       "357         357  2053     10  285.987099  3.775451  48.880397        0.903613\n",
       "358         358  2053     11  278.810097  3.910427  76.919488        0.123145\n",
       "359         359  2053     12  272.485429  3.304169  27.871464        0.085704\n",
       "360         360  2054      1  274.436014  4.323838  51.345410        0.218736\n",
       "\n",
       "[361 rows x 7 columns]"
      ]
     },
     "execution_count": 10,
     "metadata": {},
     "output_type": "execute_result"
    }
   ],
   "source": [
    "df_predict_numbers\n",
    "#gorupby('Year','Month)\n",
    "\n",
    "# Was braucht Monat Jahr Bundesland Prediction Value "
   ]
  },
  {
   "cell_type": "code",
   "execution_count": null,
   "metadata": {},
   "outputs": [],
   "source": [
    "\n",
    "#uniqu = np.unique(df_number['nFires'].values)\n",
    "df_number.info()\n",
    "df_area.info()\n",
    "#drop \n",
    "# TODO Dataset bearbeiten nur noch wenn ich auf die features hinauswill "
   ]
  },
  {
   "cell_type": "code",
   "execution_count": null,
   "metadata": {},
   "outputs": [],
   "source": [
    "#Ideen Viz für predictions \n",
    "# Eine Map für ein Monat \n",
    "#Plot und Scatter unterschiede "
   ]
  },
  {
   "cell_type": "code",
   "execution_count": null,
   "metadata": {},
   "outputs": [],
   "source": [
    "fig, ax = plt.subplots()             # Create a figure containing a single Axes.\n",
    "ax.plot([1, 2, 3, 4], [1, 4, 2, 3])  # Plot some data on the Axes.\n",
    "plt.show()                           # Show the figure."
   ]
  },
  {
   "cell_type": "code",
   "execution_count": null,
   "metadata": {},
   "outputs": [],
   "source": [
    "fig = plt.figure()             # an empty figure with no Axes\n",
    "fig, ax = plt.subplots()       # a figure with a single Axes\n",
    "fig, axs = plt.subplots(2, 2)  # a figure with a 2x2 grid of Axes\n",
    "# a figure with one Axes on the left, and two on the right:\n",
    "fig, axs = plt.subplot_mosaic([['left', 'right_top'],\n",
    "                               ['left', 'right_bottom']])"
   ]
  },
  {
   "cell_type": "code",
   "execution_count": 14,
   "metadata": {},
   "outputs": [
    {
     "data": {
      "text/plain": [
       "Text(0, 0.5, 'number of fires')"
      ]
     },
     "execution_count": 14,
     "metadata": {},
     "output_type": "execute_result"
    },
    {
     "data": {
      "image/png": "[encoded data removed]",
      "text/plain": [
       "<Figure size 500x270 with 1 Axes>"
      ]
     },
     "metadata": {},
     "output_type": "display_data"
    }
   ],
   "source": [
    "\n",
    "#data = {'time': df_area['month'],\n",
    "#        'nFires': df_predict_numbers['nFires'],\n",
    " #       'area': df_area['area']}\n",
    "\n",
    "\n",
    "##data['b'] = data['a'] + 10 * np.random.randn(50)\n",
    "#data['d'] = np.abs(data['d']) * 100\n",
    "\n",
    "#data['Year']\n",
    "#data['nFires']\n",
    "\n",
    "fig, ax = plt.subplots(figsize=(5, 2.7), layout='constrained')\n",
    "ax.scatter('Year, Month', 'nr_predictions', data = df_predict_numbers)\n",
    "ax.set_title('forest fire predictions')\n",
    "ax.set_xlabel('time')\n",
    "ax.set_ylabel('number of fires')"
   ]
  }
 ],
 "metadata": {
  "kernelspec": {
   "display_name": ".venv",
   "language": "python",
   "name": "python3"
  },
  "language_info": {
   "codemirror_mode": {
    "name": "ipython",
    "version": 3
   },
   "file_extension": ".py",
   "mimetype": "text/x-python",
   "name": "python",
   "nbconvert_exporter": "python",
   "pygments_lexer": "ipython3",
   "version": "3.12.3"
  }
 },
 "nbformat": 4,
 "nbformat_minor": 2
}
