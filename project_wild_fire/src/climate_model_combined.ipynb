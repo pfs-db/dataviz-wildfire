{
 "cells": [
  {
   "cell_type": "markdown",
   "metadata": {},
   "source": [
    "# Notebook for Climate Data "
   ]
  },
  {
   "cell_type": "code",
   "execution_count": null,
   "metadata": {},
   "outputs": [],
   "source": [
    "#import packages\n",
    "import xarray as xr\n",
    "import pandas as pd \n",
    "import numpy as np \n",
    "import matplotlib.pyplot as plt \n",
    "\n",
    "#Load Climate Modell \n",
    "data_pr = xr.open_dataset('../data/climate_model/PR_data_climatemodel.nc')\n",
    "data_wind = xr.open_dataset('../data/climate_model/sfcWind_EUR-11_MPI-M-MPI-ESM-LR_rcp26_r2i1p1_DWD-EPISODES2018_v1-r1_mon_200601-210012.nc')\n",
    "data_humid = xr.open_dataset('../data/climate_model/hurs_EUR-11_MPI-M-MPI-ESM-LR_rcp26_r2i1p1_DWD-EPISODES2018_v1-r1_mon_200601-210012.nc')\n",
    "data_tempmean = xr.open_dataset('../data/climate_model/tas_EUR-11_MPI-M-MPI-ESM-LR_rcp26_r2i1p1_DWD-EPISODES2018_v1-r1_mon_200601-210012.nc')\n",
    "data_tempmax = xr.open_dataset('../data/climate_model/tasmax_EUR-11_MPI-M-MPI-ESM-LR_rcp26_r2i1p1_DWD-EPISODES2018_v1-r1_mon_200601-210012.nc')\n",
    "data_tempmin = xr.open_dataset('../data/climate_model/tasmin_EUR-11_MPI-M-MPI-ESM-LR_rcp26_r2i1p1_DWD-EPISODES2018_v1-r1_mon_200601-210012.nc')\n",
    "\n",
    "#Datavariables\n",
    "humid = data_humid.hurs\n",
    "wind = data_wind.sfcWind\n",
    "pr = data_pr.pr\n",
    "tempmean = data_tempmean.tas\n",
    "tempmax = data_tempmax.tasmax\n",
    "tempmin = data_tempmin.tasmin"
   ]
  },
  {
   "cell_type": "code",
   "execution_count": null,
   "metadata": {},
   "outputs": [],
   "source": [
    "#Example single Data Variable Information\n",
    "print(\"Precipitation Data Information: \\n\")\n",
    "#relevant Data Dim\n",
    "print(pr.shape,\"\",  sep=\"\\n --- \")\n",
    "# Datenpunkte \n",
    "print(data_pr.dims,\"\", sep=\" \\n --- \")\n",
    "# Datenvariablen\n",
    "print(data_pr.data_vars,\"\", sep=\"\\n --- \")\n",
    "#ausfürhliche Version im Text Editor anschauen sonst unvollständig\n",
    "print(data_pr.info())\n",
    "\n",
    "\n"
   ]
  },
  {
   "cell_type": "code",
   "execution_count": null,
   "metadata": {},
   "outputs": [],
   "source": [
    "#Metadata climate-model\n",
    "#very similar\n",
    "print(data_pr.attrs)\n",
    "print(data_wind.attrs)\n",
    "print(data_humid.attrs)\n",
    "print(data_tempmean.attrs)\n",
    "print(data_tempmax.attrs)"
   ]
  },
  {
   "cell_type": "code",
   "execution_count": null,
   "metadata": {},
   "outputs": [],
   "source": [
    "#Merge Datasets\n",
    "data_all = xr.merge([pr,tempmax,tempmean,tempmin,humid,wind], compat='override')\n",
    "#conflict in height is overrided\n",
    "#save height values somewhere else\n",
    "\n",
    "# Slicing Time and Space to 2024 and Germany \n",
    "time_slice_start = \"2024-01-16\"\n",
    "time_slice_end   = \"2054-01-16\"\n",
    "rlon_slice_min   = -8\n",
    "rlon_slice_max   = -1\n",
    "rlat_slice_min   = -4\n",
    "rlat_slice_max   = 6\n",
    "\n",
    "data_all_sliced = data_all.sel(time=slice(time_slice_start,time_slice_end),\n",
    "                              rlon=slice(rlon_slice_min, rlon_slice_max), rlat=slice(rlat_slice_min, rlat_slice_max))\n",
    "\n",
    "# Datavariables \n",
    "humid = data_all_sliced.hurs\n",
    "wind = data_all_sliced.sfcWind\n",
    "pr = data_all_sliced.pr\n",
    "tempmean = data_all_sliced.tas\n",
    "tempmax = data_all_sliced.tasmax\n",
    "tempmin = data_all_sliced.tasmin"
   ]
  },
  {
   "cell_type": "code",
   "execution_count": null,
   "metadata": {},
   "outputs": [],
   "source": [
    "print(\"Merged Dataset: \\n\")\n",
    "#relevant Data Dim\n",
    "#print(data_all.pr.shape, \"\", sep=\"\\n ---\")\n",
    "#Datenpunkte\n",
    "print(data_all.dims, \"\", sep=\"\\n ---\")\n",
    "#Datenvariablen \n",
    "print(data_all.data_vars,\"\", sep=\"\\n ---\")\n",
    "#ausfürhliche Version im Text Editor anschauen sonst unvollständig\n",
    "print(data_all.info(), \"\", sep=\"\\n ---\")"
   ]
  },
  {
   "cell_type": "code",
   "execution_count": null,
   "metadata": {},
   "outputs": [],
   "source": [
    "print(data_all.attrs)\n",
    "# das ist komisch -> aber vtt nicht schlimm "
   ]
  },
  {
   "cell_type": "code",
   "execution_count": null,
   "metadata": {},
   "outputs": [],
   "source": [
    "# Plot in Xarray 2024-01-16\n",
    "data_all_sliced_plot = data_all_sliced.sel(time=\"2024-01-16\")\n",
    "variables = ['pr', 'tasmax', 'tas', 'tasmin', 'hurs', 'sfcWind']\n",
    "units = [data_all.pr.attrs['units'], data_all.tasmax.attrs['units'], data_all.tas.attrs['units'],\n",
    "         data_all.tasmin.attrs['units'], data_all.hurs.attrs['units'], data_all.sfcWind.attrs['units']]\n",
    "n_vars = len(variables)\n",
    "\n",
    "\n",
    "for i, var in enumerate(variables):\n",
    "    data_all_sliced_plot[var].plot(x=\"lon\", y=\"lat\", col=\"time\")"
   ]
  },
  {
   "cell_type": "code",
   "execution_count": null,
   "metadata": {},
   "outputs": [],
   "source": [
    "#Plot for with mathplotlib axes labeling not working\n",
    "\n",
    "data_all_sliced_plot = data_all_sliced.sel(time=\"2024-01-16\")\n",
    "\n",
    "# Variablen, die geplottet werden sollen\n",
    "variables = ['pr', 'tasmax', 'tas', 'tasmin', 'hurs', 'sfcWind']\n",
    "units = [data_all.pr.attrs['units'], data_all.tasmax.attrs['units'], data_all.tas.attrs['units'],\n",
    "         data_all.tasmin.attrs['units'], data_all.hurs.attrs['units'], data_all.sfcWind.attrs['units']]\n",
    "n_vars = len(variables)\n",
    "print(units)\n",
    "# Subplots erstellen\n",
    "fig, axes = plt.subplots(nrows=1, ncols=n_vars, figsize=(20, 5))\n",
    "\n",
    "for i, var in enumerate(variables):\n",
    "    ax = axes[i]\n",
    "    data = data_all_sliced_plot[var].squeeze()\n",
    "    # Plotten der Daten als Bild mit imshow\n",
    "    im = ax.imshow(data, cmap='viridis', origin='lower')\n",
    "    ax.set_title(units[i])\n",
    "    fig.colorbar(im, ax=ax, orientation='vertical')\n",
    "\n",
    "plt.tight_layout()\n",
    "plt.show()"
   ]
  }
 ],
 "metadata": {
  "kernelspec": {
   "display_name": ".venv",
   "language": "python",
   "name": "python3"
  },
  "language_info": {
   "codemirror_mode": {
    "name": "ipython",
    "version": 3
   },
   "file_extension": ".py",
   "mimetype": "text/x-python",
   "name": "python",
   "nbconvert_exporter": "python",
   "pygments_lexer": "ipython3",
   "version": "3.12.3"
  }
 },
 "nbformat": 4,
 "nbformat_minor": 2
}
