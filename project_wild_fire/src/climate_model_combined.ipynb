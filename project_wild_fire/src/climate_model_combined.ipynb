{
 "cells": [
  {
   "cell_type": "markdown",
   "metadata": {},
   "source": [
    "# Notebook for Climate Data "
   ]
  },
  {
   "cell_type": "code",
   "execution_count": null,
   "metadata": {},
   "outputs": [],
   "source": [
    "import xarray as xr\n",
    "import pandas as pd \n",
    "import numpy as np \n",
    "import matplotlib.pyplot as plt \n",
    "\n",
    "#Load Climate Modell \n",
    "data_pr = xr.open_dataset('../data/climate_model/PR_data_climatemodel.nc')\n",
    "data_wind = xr.open_dataset('../data/climate_model/sfcWind_EUR-11_MPI-M-MPI-ESM-LR_rcp26_r2i1p1_DWD-EPISODES2018_v1-r1_mon_200601-210012.nc')\n",
    "wind = data_wind.sfcWind\n",
    "pr = data_pr.pr"
   ]
  },
  {
   "cell_type": "code",
   "execution_count": 27,
   "metadata": {},
   "outputs": [
    {
     "data": {
      "text/plain": [
       "(1140, 412, 424)"
      ]
     },
     "execution_count": 27,
     "metadata": {},
     "output_type": "execute_result"
    }
   ],
   "source": [
    "# Datenpunkte \n",
    "data_pr.dims\n",
    "# Datenvariablen\n",
    "data_pr.data_vars\n",
    "#ausfürhliche Version im Text Editor anschauen sonst unvollständig\n",
    "pr.shape\n",
    "#data_pr.info()\n",
    "\n",
    "\n"
   ]
  },
  {
   "cell_type": "code",
   "execution_count": null,
   "metadata": {},
   "outputs": [],
   "source": [
    "# Datenpunkte \n",
    "data_wind.dims\n",
    "# Datenvariablen\n",
    "data_wind.data_vars\n",
    "#data_wind.info()\n",
    "#wind.shape"
   ]
  },
  {
   "cell_type": "code",
   "execution_count": null,
   "metadata": {},
   "outputs": [],
   "source": []
  },
  {
   "cell_type": "code",
   "execution_count": null,
   "metadata": {},
   "outputs": [],
   "source": [
    "#Metadaten Klima-Modell etc.\n",
    "#da ähnliche Parameter eig identisch\n",
    "data_pr.attrs\n",
    "data_wind.attrs"
   ]
  },
  {
   "cell_type": "code",
   "execution_count": null,
   "metadata": {},
   "outputs": [],
   "source": [
    "#Useful Commands \n",
    "#ds.air.mean(dim=\"time\").plot(x=\"lon\")\n",
    "## pull out time index 0, lat index 2, and lon index 3\n",
    "# ds.air.isel(time=0, lat=2, lon=3)  #  much better than ds.air[0, 2, 3]\n",
    "# Indexierter Zugriff\n",
    "#First Precipitation Data whole Germany \n",
    "# 500 Zeiteintrag (in Datum) und zehnter rat (in Grad)\n",
    "# Zugriff auf Stelle in den Daten nicht auf Werte\n",
    "#data_pr.pr[500].plot()\n"
   ]
  },
  {
   "cell_type": "code",
   "execution_count": null,
   "metadata": {},
   "outputs": [],
   "source": [
    "#sel select values by label \n",
    "#Slice Right Time \n",
    "data_pr_2030 = data_pr.sel(time=slice(\"2024-01-16\",\"2054-01-16\"))\n",
    "# Slice degrees beiing out of germany\n",
    "data_pr_2030_zoom = data_pr_2030.sel(rlon=slice(-9,-1), rlat=slice(-5,6))\n",
    "data_pr_2030_zoom.pr.coords\n",
    "data_pr_2030_zoom.pr[1].plot()\n",
    "#data_pr_2030_zoom.pr[5].plot()\n",
    "#data_pr_2030_zoom.pr[200].plot()\n",
    "#data_pr_2030_zoom.pr"
   ]
  },
  {
   "cell_type": "code",
   "execution_count": null,
   "metadata": {},
   "outputs": [],
   "source": [
    "wind = wind.sel(time=slice(\"2024-01-16\",\"2054-01-16\"), rlon=slice(-9,-1), rlat=slice(-5,6))\n",
    "wind.shape\n",
    "wind[1,:,:].plot()"
   ]
  }
 ],
 "metadata": {
  "kernelspec": {
   "display_name": ".venv",
   "language": "python",
   "name": "python3"
  },
  "language_info": {
   "codemirror_mode": {
    "name": "ipython",
    "version": 3
   },
   "file_extension": ".py",
   "mimetype": "text/x-python",
   "name": "python",
   "nbconvert_exporter": "python",
   "pygments_lexer": "ipython3",
   "version": "3.12.3"
  }
 },
 "nbformat": 4,
 "nbformat_minor": 2
}
