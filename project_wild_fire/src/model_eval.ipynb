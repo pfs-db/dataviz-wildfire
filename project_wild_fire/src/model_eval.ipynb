{
 "cells": [
  {
   "cell_type": "code",
   "execution_count": 1,
   "metadata": {},
   "outputs": [],
   "source": [
    "import wetter_api as wt\n",
    "# import waldbrand\n",
    "import model_eval as me\n",
    "from sklearn.model_selection import train_test_split, GridSearchCV\n",
    "# from sklearn.linear_model import LinearRegression, Ridge, Lasso\n",
    "# from sklearn.tree import DecisionTreeRegressor\n",
    "from sklearn.ensemble import RandomForestRegressor\n",
    "# from sklearn.svm import SVR\n",
    "# from sklearn.metrics import mean_squared_error, r2_score"
   ]
  },
  {
   "cell_type": "code",
   "execution_count": 2,
   "metadata": {},
   "outputs": [],
   "source": [
    "parameter_list = [\n",
    "    wt.DwdObservationParameter.MONTHLY.PRECIPITATION_HEIGHT,\n",
    "    wt.DwdObservationParameter.MONTHLY.TEMPERATURE_AIR_MAX_200,\n",
    "    wt.DwdObservationParameter.MONTHLY.SUNSHINE_DURATION,\n",
    "]\n",
    "# Dictionary with short names as keys and full names as values\n",
    "shortname_to_state = {\n",
    "    \"BW\": \"Baden-Württemberg\",\n",
    "    \"BY\": \"Bayern\",\n",
    "    \"BE\": \"Berlin\",\n",
    "    \"BB\": \"Brandenburg\",\n",
    "    \"HB\": \"Bremen\",\n",
    "    \"HH\": \"Hamburg\",\n",
    "    \"HE\": \"Hessen\",\n",
    "    \"MV\": \"Mecklenburg-Vorpommern\",\n",
    "    \"NI\": \"Niedersachsen\",\n",
    "    \"NW\": \"Nordrhein-Westfalen\",\n",
    "    \"RP\": \"Rheinland-Pfalz\",\n",
    "    \"SL\": \"Saarland\",\n",
    "    \"SN\": \"Sachsen\",\n",
    "    \"ST\": \"Sachsen-Anhalt\",\n",
    "    \"SH\": \"Schleswig-Holstein\",\n",
    "    \"TH\": \"Thüringen\",\n",
    "}\n",
    "\n",
    "# Example usage\n",
    "shortname = \"BB\"\n",
    "state = shortname_to_state.get(shortname)\n"
   ]
  },
  {
   "cell_type": "code",
   "execution_count": 3,
   "metadata": {},
   "outputs": [
    {
     "ename": "",
     "evalue": "",
     "output_type": "error",
     "traceback": [
      "\u001b[1;31mThe Kernel crashed while executing code in the current cell or a previous cell. \n",
      "\u001b[1;31mPlease review the code in the cell(s) to identify a possible cause of the failure. \n",
      "\u001b[1;31mClick <a href='https://aka.ms/vscodeJupyterKernelCrash'>here</a> for more info. \n",
      "\u001b[1;31mView Jupyter <a href='command:jupyter.viewOutput'>log</a> for further details."
     ]
    }
   ],
   "source": [
    "shortname = \"BW\"\n",
    "state = shortname_to_state.get(shortname)\n",
    "merged_data = me.prepare_data(parameter_list, state)"
   ]
  },
  {
   "cell_type": "code",
   "execution_count": 49,
   "metadata": {},
   "outputs": [],
   "source": [
    "test_size=0.2\n",
    "random_state=42\n",
    "str_parameter_list = [str(param) for param in parameter_list]\n",
    "feature_list = [\"Year\", \"Month\"] + str_parameter_list\n",
    "X = merged_data[feature_list]\n",
    "y = merged_data[\"nFires\"]\n",
    "\n",
    "X_train, X_test, y_train, y_test = train_test_split(\n",
    "    X, y, test_size=test_size, random_state=random_state\n",
    ")\n",
    "# results = evaluate_model(X_train, X_test, y_train, y_test)"
   ]
  },
  {
   "cell_type": "code",
   "execution_count": 52,
   "metadata": {},
   "outputs": [],
   "source": [
    "# How to define this?\n",
    "param_grid = {\n",
    "    \"max_depth\": list(range(5, 21, 5)),  # Smaller range for max depth\n",
    "    \"max_features\": [1, 2, 3],  # Only up to the number of features you have\n",
    "}\n",
    "rf = RandomForestRegressor()\n",
    "\n",
    "grid_search = GridSearchCV(\n",
    "    estimator=rf, param_grid=param_grid, cv=3, scoring=\"neg_mean_squared_error\"\n",
    ")\n",
    "\n",
    "\n",
    "grid_search.fit(X_train, y_train)\n",
    "\n",
    "# Get the best parameters and model\n",
    "best_params = grid_search.best_params_\n",
    "best_model = grid_search.best_estimator_"
   ]
  },
  {
   "cell_type": "code",
   "execution_count": 55,
   "metadata": {},
   "outputs": [
    {
     "name": "stdout",
     "output_type": "stream",
     "text": [
      "MSE: 0.0008343595342124447\n",
      "R2 Score: 0.9999995231006401\n"
     ]
    }
   ],
   "source": [
    "from sklearn.metrics import mean_squared_error, r2_score\n",
    "# Evaluate the best model\n",
    "y_pred = best_model.predict(X_test)\n",
    "mse = mean_squared_error(y_test, y_pred)\n",
    "r2 = r2_score(y_test, y_pred)\n",
    "\n",
    "print(f\"MSE: {mse}\")\n",
    "print(f\"R2 Score: {r2}\")"
   ]
  },
  {
   "cell_type": "code",
   "execution_count": 33,
   "metadata": {},
   "outputs": [
    {
     "data": {
      "text/plain": [
       "{'model': GradientBoostingRegressor(),\n",
       " 'mse': 151.93781015930125,\n",
       " 'r2_score': 0.9131560898604607}"
      ]
     },
     "execution_count": 33,
     "metadata": {},
     "output_type": "execute_result"
    }
   ],
   "source": [
    "me.evaluate_model(X_train, X_test, y_train, y_test, \"Gradient Boosting Regression\")"
   ]
  },
  {
   "cell_type": "code",
   "execution_count": 32,
   "metadata": {},
   "outputs": [
    {
     "data": {
      "text/plain": [
       "{'model': LinearRegression(),\n",
       " 'mse': 720.8955480615789,\n",
       " 'r2_score': 0.5879538600022325}"
      ]
     },
     "execution_count": 32,
     "metadata": {},
     "output_type": "execute_result"
    }
   ],
   "source": [
    "me.evaluate_model(X_train, X_test, y_train, y_test, \"Linear Regression\")"
   ]
  },
  {
   "cell_type": "code",
   "execution_count": 31,
   "metadata": {},
   "outputs": [
    {
     "data": {
      "text/plain": [
       "{'model': Ridge(), 'mse': 720.8955480560656, 'r2_score': 0.5879538600053837}"
      ]
     },
     "execution_count": 31,
     "metadata": {},
     "output_type": "execute_result"
    }
   ],
   "source": [
    "me.evaluate_model(X_train, X_test, y_train, y_test, \"Ridge Regression\")"
   ]
  },
  {
   "cell_type": "code",
   "execution_count": 34,
   "metadata": {},
   "outputs": [
    {
     "data": {
      "text/plain": [
       "{'model': DecisionTreeRegressor(), 'mse': 0.0, 'r2_score': 1.0}"
      ]
     },
     "execution_count": 34,
     "metadata": {},
     "output_type": "execute_result"
    }
   ],
   "source": [
    "me.evaluate_model(X_train, X_test, y_train, y_test, \"Decision Tree Regression\")"
   ]
  }
 ],
 "metadata": {
  "kernelspec": {
   "display_name": ".venv",
   "language": "python",
   "name": "python3"
  },
  "language_info": {
   "codemirror_mode": {
    "name": "ipython",
    "version": 3
   },
   "file_extension": ".py",
   "mimetype": "text/x-python",
   "name": "python",
   "nbconvert_exporter": "python",
   "pygments_lexer": "ipython3",
   "version": "3.12.4"
  }
 },
 "nbformat": 4,
 "nbformat_minor": 2
}
