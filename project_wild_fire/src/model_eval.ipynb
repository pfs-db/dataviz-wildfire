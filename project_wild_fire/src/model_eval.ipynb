{
 "cells": [
  {
   "cell_type": "code",
   "execution_count": 4,
   "metadata": {},
   "outputs": [],
   "source": [
    "import wetter_api as wt\n",
    "import waldbrand\n",
    "import model_eval as me\n",
    "import pandas as pd\n",
    "from sklearn.model_selection import train_test_split, cross_val_score\n",
    "from sklearn.linear_model import LinearRegression, Ridge, Lasso\n",
    "from sklearn.tree import DecisionTreeRegressor\n",
    "from sklearn.ensemble import RandomForestRegressor, GradientBoostingRegressor\n",
    "from sklearn.svm import SVR\n",
    "from sklearn.metrics import mean_squared_error, r2_score"
   ]
  },
  {
   "cell_type": "code",
   "execution_count": 9,
   "metadata": {},
   "outputs": [],
   "source": [
    "parameter_list = [\n",
    "    wt.DwdObservationParameter.MONTHLY.PRECIPITATION_HEIGHT,\n",
    "    wt.DwdObservationParameter.MONTHLY.TEMPERATURE_AIR_MAX_200,\n",
    "    wt.DwdObservationParameter.MONTHLY.TEMPERATURE_AIR_MIN_200,\n",
    "    wt.DwdObservationParameter.MONTHLY.SUNSHINE_DURATION,\n",
    "]\n",
    "# Dictionary with short names as keys and full names as values\n",
    "shortname_to_state = {\n",
    "    \"BW\": \"Baden-Wuerttemberg\",\n",
    "    \"BY\": \"Bayern\",\n",
    "    \"BE\": \"Berlin\",\n",
    "    \"BB\": \"Brandenburg\",\n",
    "    \"HB\": \"Bremen\",\n",
    "    \"HH\": \"Hamburg\",\n",
    "    \"HE\": \"Hessen\",\n",
    "    \"MV\": \"Mecklenburg-Vorpommern\",\n",
    "    \"NI\": \"Niedersachsen\",\n",
    "    \"NW\": \"Nordrhein-Westfalen\",\n",
    "    \"RP\": \"Rheinland-Pfalz\",\n",
    "    \"SL\": \"Saarland\",\n",
    "    \"SN\": \"Sachsen\",\n",
    "    \"ST\": \"Sachsen-Anhalt\",\n",
    "    \"SH\": \"Schleswig-Holstein\",\n",
    "    \"TH\": \"Thueringen\",\n",
    "    \"FB\": \"Frueheres Bundesgebiet\",\n",
    "    \"NL\": \"Neue Laender\",\n",
    "    \"DE\": \"Deutschland\",\n",
    "}\n",
    "\n",
    "# Example usage\n",
    "shortname = \"BB\"\n",
    "state = shortname_to_state.get(shortname)"
   ]
  },
  {
   "cell_type": "code",
   "execution_count": 10,
   "metadata": {},
   "outputs": [],
   "source": [
    "merged_data = me.prepare_data(parameter_list, state)\n",
    "str_parameter_list = [str(param) for param in parameter_list]\n",
    "feature_list = [\"Year\", \"Month\"] + str_parameter_list\n",
    "model_results = me.prepare_data_for_ml(merged_data, feature_list)"
   ]
  },
  {
   "cell_type": "code",
   "execution_count": 11,
   "metadata": {},
   "outputs": [
    {
     "name": "stdout",
     "output_type": "stream",
     "text": [
      "Linear Regression - MSE: 761.219528786925, R2: 0.5687460110869479\n",
      "Coefficients: [-9.00823070e-01 -8.66870402e-02 -2.19062607e-01  5.66869549e-01\n",
      " -6.31460307e-01  1.07738193e-04]\n",
      "Ridge Regression - MSE: 761.2114866258283, R2: 0.5687505672155301\n",
      "Lasso Regression - MSE: 756.5766596319872, R2: 0.5713763375136215\n",
      "Decision Tree Regression - MSE: 589.1323529411765, R2: 0.6662386242133174\n",
      "Random Forest Regression - MSE: 480.39583529411766, R2: 0.7278411648766356\n",
      "Support Vector Regression - MSE: 1024.1472076272546, R2: 0.41978949327895443\n",
      "Gradient Boosting Regression - MSE: 559.7627922112109, R2: 0.6828773726143282\n"
     ]
    }
   ],
   "source": [
    "for model_name, metrics in model_results.items():\n",
    "    print(f\"{model_name} - MSE: {metrics['mse']}, R2: {metrics['r2_score']}\")\n",
    "    if model_name == \"Linear Regression\":\n",
    "        print(\"Coefficients:\", metrics[\"model\"].coef_)"
   ]
  }
 ],
 "metadata": {
  "kernelspec": {
   "display_name": ".venv",
   "language": "python",
   "name": "python3"
  },
  "language_info": {
   "codemirror_mode": {
    "name": "ipython",
    "version": 3
   },
   "file_extension": ".py",
   "mimetype": "text/x-python",
   "name": "python",
   "nbconvert_exporter": "python",
   "pygments_lexer": "ipython3",
   "version": "3.12.4"
  }
 },
 "nbformat": 4,
 "nbformat_minor": 2
}
